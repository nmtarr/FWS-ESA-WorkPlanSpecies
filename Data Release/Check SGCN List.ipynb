{
 "cells": [
  {
   "cell_type": "markdown",
   "metadata": {},
   "source": [
    "One interesting thing to know about the work plan species is their connection to State Species of Greatest Conservation Need. The USGS builds and maintains a synthesis of state species, linking species names to taxonomic authorities (ITIS and WoRMS) to produce a synthesized National list for each decadal reporting period (with some periodic updates during the intervening years). This notebook leverages an sgcn module in the bispy package to search the National List SGCN API. It returns and caches the summarized National List records, which include the list of states that have the species in their conservation planning process."
   ]
  },
  {
   "cell_type": "code",
   "execution_count": 1,
   "metadata": {},
   "outputs": [
    {
     "ename": "ModuleNotFoundError",
     "evalue": "No module named 'yaml'",
     "output_type": "error",
     "traceback": [
      "\u001b[0;31m---------------------------------------------------------------------------\u001b[0m",
      "\u001b[0;31mModuleNotFoundError\u001b[0m                       Traceback (most recent call last)",
      "\u001b[0;32m<ipython-input-1-ecf6db875e91>\u001b[0m in \u001b[0;36m<module>\u001b[0;34m\u001b[0m\n\u001b[1;32m      9\u001b[0m \u001b[0mbis_utils\u001b[0m \u001b[0;34m=\u001b[0m \u001b[0mbispy\u001b[0m\u001b[0;34m.\u001b[0m\u001b[0mbis\u001b[0m\u001b[0;34m.\u001b[0m\u001b[0mUtils\u001b[0m\u001b[0;34m(\u001b[0m\u001b[0;34m)\u001b[0m\u001b[0;34m\u001b[0m\u001b[0;34m\u001b[0m\u001b[0m\n\u001b[1;32m     10\u001b[0m \u001b[0;34m\u001b[0m\u001b[0m\n\u001b[0;32m---> 11\u001b[0;31m \u001b[0;32mimport\u001b[0m \u001b[0mhelperfunctions\u001b[0m\u001b[0;34m\u001b[0m\u001b[0;34m\u001b[0m\u001b[0m\n\u001b[0m",
      "\u001b[0;32m~/Code/FWS-ESA-WorkPlanSpecies/Data Release/helperfunctions.py\u001b[0m in \u001b[0;36m<module>\u001b[0;34m\u001b[0m\n\u001b[1;32m      1\u001b[0m \u001b[0;32mimport\u001b[0m \u001b[0mjson\u001b[0m\u001b[0;34m\u001b[0m\u001b[0;34m\u001b[0m\u001b[0m\n\u001b[0;32m----> 2\u001b[0;31m \u001b[0;32mimport\u001b[0m \u001b[0myaml\u001b[0m\u001b[0;34m\u001b[0m\u001b[0;34m\u001b[0m\u001b[0m\n\u001b[0m\u001b[1;32m      3\u001b[0m \u001b[0;32mimport\u001b[0m \u001b[0mbispy\u001b[0m\u001b[0;34m\u001b[0m\u001b[0;34m\u001b[0m\u001b[0m\n\u001b[1;32m      4\u001b[0m \u001b[0;32mimport\u001b[0m \u001b[0mos\u001b[0m\u001b[0;34m\u001b[0m\u001b[0;34m\u001b[0m\u001b[0m\n\u001b[1;32m      5\u001b[0m \u001b[0;34m\u001b[0m\u001b[0m\n",
      "\u001b[0;31mModuleNotFoundError\u001b[0m: No module named 'yaml'"
     ]
    }
   ],
   "source": [
    "import requests\n",
    "import bispy\n",
    "from IPython.display import display\n",
    "from joblib import Parallel, delayed\n",
    "from collections import Counter\n",
    "import jsonschema\n",
    "\n",
    "sgcn = bispy.sgcn.Search()\n",
    "bis_utils = bispy.bis.Utils()\n",
    "\n",
    "import helperfunctions"
   ]
  },
  {
   "cell_type": "code",
   "execution_count": 2,
   "metadata": {},
   "outputs": [],
   "source": [
    "name_list = helperfunctions.workplan_species()"
   ]
  },
  {
   "cell_type": "code",
   "execution_count": 3,
   "metadata": {},
   "outputs": [
    {
     "name": "stdout",
     "output_type": "stream",
     "text": [
      "CPU times: user 1.01 s, sys: 106 ms, total: 1.12 s\n",
      "Wall time: 14.9 s\n"
     ]
    }
   ],
   "source": [
    "%%time\n",
    "# Use joblib to run multiple requests for SGCN records in parallel via scientific names\n",
    "sgcn_results = Parallel(n_jobs=8)(delayed(sgcn.search)(name, name_source) for name, name_source in name_list)\n"
   ]
  },
  {
   "cell_type": "code",
   "execution_count": 4,
   "metadata": {},
   "outputs": [
    {
     "data": {
      "text/plain": [
       "{'Doc Cache File': 'cache/sgcn.json',\n",
       " 'Number of Documents in Cache': 387,\n",
       " 'Document Number 370': {'processing_metadata': {'status': 'success',\n",
       "   'date_processed': '2019-07-24T21:45:12.311662',\n",
       "   'status_message': 'Name Match',\n",
       "   'api': 'https://api.sciencebase.gov/bis-api/api/v1/swap/nationallist?scientificname=Clemmys guttata'},\n",
       "  'parameters': {'Scientific Name': 'Clemmys guttata',\n",
       "   'Name Source': 'Lookup Name'},\n",
       "  'sgcn_species': {'statelist_2005': 'Connecticut,Delaware,Florida,Georgia,Illinois,Indiana,Maine,Maryland,Massachusetts,Michigan,New Hampshire,New Jersey,New York,North Carolina,Ohio,Pennsylvania,Rhode Island,South Carolina,Vermont,Virginia,West Virginia',\n",
       "   'statelist_2015': 'Connecticut,Delaware,District of Columbia,Florida,Georgia,Illinois,Indiana,Maine,Maryland,Massachusetts,Michigan,New Hampshire,New Jersey,New York,North Carolina,Ohio,Pennsylvania,Rhode Island,South Carolina,Vermont,Virginia,West Virginia',\n",
       "   'scientificname': 'Clemmys guttata',\n",
       "   'commonname': 'Spotted Turtle',\n",
       "   'taxonomicgroup': 'Reptiles',\n",
       "   'taxonomicrank': 'Species',\n",
       "   'matchmethod': 'Exact Match',\n",
       "   'acceptedauthorityurl': 'https://www.itis.gov/servlet/SingleRpt/SingleRpt?search_topic=TSN&search_value=173771'}}}"
      ]
     },
     "metadata": {},
     "output_type": "display_data"
    }
   ],
   "source": [
    "# Cache the array of retrieved documents and return/display a random sample for verification\n",
    "display(bis_utils.doc_cache(\"cache/sgcn.json\", sgcn_results))"
   ]
  },
  {
   "cell_type": "markdown",
   "metadata": {},
   "source": [
    "# Schema Validation"
   ]
  },
  {
   "cell_type": "code",
   "execution_count": 6,
   "metadata": {},
   "outputs": [
    {
     "data": {
      "text/plain": [
       "{'definitions': {'items': {'$id': '#/items',\n",
       "   'type': ['object', 'array'],\n",
       "   'title': 'Generic container for items in a dataset',\n",
       "   'description': 'A JSON array or object property containing one or more items in a dataset or data structure within a dataset.'},\n",
       "  'doi': {'$id': '#doi',\n",
       "   'type': ['string', 'null'],\n",
       "   'title': 'Digital Object Identifier',\n",
       "   'description': 'A digital object identifier for or associated with a record. May be in the form of an HTTP url or a standalone identifier.',\n",
       "   'examples': ['http://dx.doi.org/10.2305/IUCN.UK.2004.RLTS.T59435A11941314.en',\n",
       "    '10.2305/IUCN.UK.2004.RLTS.T59435A11941314.en']},\n",
       "  'resolvable_identifier': {'$id': '#resolvable_identifier',\n",
       "   'type': 'string',\n",
       "   'title': 'Resolvable Identifier',\n",
       "   'description': 'Some form of resolvable identifier for a record that returns a response when accessed over an included protocol such as HTTP. May or may not provide for content negotiation.',\n",
       "   'examples': ['https://www.iucnredlist.org/species/59435/11941314']},\n",
       "  'citation_string': {'$id': '#citation_string',\n",
       "   'type': 'string',\n",
       "   'title': 'Citation String',\n",
       "   'description': 'A citation string directly associated with a resource record. Can be any parseable citation string.'},\n",
       "  'record_date': {'$id': '#record_date',\n",
       "   'type': 'string',\n",
       "   'title': 'The date that a record was considered valid from its source',\n",
       "   'description': 'A date supplied by a record source indicating when it was considered valid or current.',\n",
       "   'examples': ['2004-04-30']},\n",
       "  'document_title': {'$id': '#document_title',\n",
       "   'type': 'string',\n",
       "   'title': 'The title for a document of any type',\n",
       "   'description': 'A generic property used to hold the title for a document.',\n",
       "   'examples': ['War and Peace']},\n",
       "  'document_link': {'$id': '#document_title',\n",
       "   'type': 'string',\n",
       "   'title': 'A web link (URL) to access a document online',\n",
       "   'description': 'A generic property used to hold a resolvable link to a document of any type.',\n",
       "   'examples': ['https://www.gutenberg.org/files/2600/2600-h/2600-h.htm']},\n",
       "  'publication_date': {'$id': '#publication_date',\n",
       "   'type': 'string',\n",
       "   'title': 'Date that a document or article was published',\n",
       "   'description': 'A generic property used to hold a date at multiple levels of precision that a document or article was published.',\n",
       "   'examples': ['1869']},\n",
       "  'date_created': {'$id': '#date_created',\n",
       "   'type': 'string',\n",
       "   'title': 'Date Created',\n",
       "   'description': 'Date/time at various levels of precision and formatting that a record was created standardized from source information.',\n",
       "   'examples': ['1997-05-06 15:49:08']},\n",
       "  'date_modified': {'$id': '#date_modified',\n",
       "   'type': 'string',\n",
       "   'title': 'Date Modified',\n",
       "   'description': 'Date/time at various levels of precision and formatting that a record was modified standardized from source information.',\n",
       "   'examples': ['2009-09-01 00:00:00']},\n",
       "  'biological_taxonomy': {'$id': '#biological_taxonomy',\n",
       "   'type': 'array',\n",
       "   'title': 'Biological Taxonomy',\n",
       "   'description': 'An array containing the full taxonomic hierarchy for the subject taxon with rank and name standardized into a useful form from source data.',\n",
       "   'items': {'$ref': '#/definitions/items', 'required': ['rank', 'name']},\n",
       "   'properties': {'rank': {'$id': '#/biological_taxonomy/items/properties/rank',\n",
       "     'type': 'string',\n",
       "     'title': 'Taxonomic Rank',\n",
       "     'description': 'The specific rank in the taxonomic hierarchy.',\n",
       "     'examples': ['Kingdom']},\n",
       "    'name': {'$id': '#/biological_taxonomy/items/properties/name',\n",
       "     'type': 'string',\n",
       "     'title': 'Taxonomic Name',\n",
       "     'description': 'The scientific name at the hierarchical rank.',\n",
       "     'examples': ['Animalia']}}},\n",
       "  'parameters': {'$id': '#/parameters',\n",
       "   'type': ['object', 'array'],\n",
       "   'title': 'Parameters',\n",
       "   'description': 'An object or array that contains context-specific parameters as key/value pairs used as input to generate a record in a dataset.'},\n",
       "  'processing_metadata': {'$id': '#processing_metadata',\n",
       "   'type': 'object',\n",
       "   'title': 'Object containing information about the processing of a record in a dataset',\n",
       "   'description': 'A container object that contains properties describing the specific processing details for a given record within a dataset. Contains standardized properties describing the processing.',\n",
       "   'required': ['status', 'date_processed', 'api'],\n",
       "   'properties': {'status': {'$id': '#status',\n",
       "     'type': 'string',\n",
       "     'title': 'The overall status of the record processing step',\n",
       "     'description': 'Describes one of three standardized states for the processing of a given record.',\n",
       "     'default': 'failure',\n",
       "     'examples': ['success', 'failure', 'error']},\n",
       "    'date_processed': {'$id': '#date_processed',\n",
       "     'type': 'string',\n",
       "     'title': 'The data and time that the process for a given record was conducted',\n",
       "     'description': 'Date time stamp in ISO8601 format denoting the point when the processing of the record occurred. Can be used to evaluate record currency with original source and trigger updates.',\n",
       "     'examples': ['2019-07-23T16:29:02.377774']},\n",
       "    'api': {'$id': '#api',\n",
       "     'type': 'string',\n",
       "     'title': 'A resolvable API string used to obtain or generate a record in a dataset',\n",
       "     'description': 'Some form of resolvable Application Programming Interface such as a REST URL that was used to generate the record being documented. Often passed through a function of some kind to process the results.',\n",
       "     'format': 'uri'},\n",
       "    'status_message': {'$id': '#status_message',\n",
       "     'type': 'string',\n",
       "     'title': 'Message with further details about the status of a record',\n",
       "     'description': 'Per dataset, this string contains context-specific details about the status or state of a record that was processed.'},\n",
       "    'details': {'$id': '#details',\n",
       "     'type': 'array',\n",
       "     'title': 'Data Processing Details',\n",
       "     'description': 'A list of statements describing additional specific details about the process of generating a record.'}}}},\n",
       " '$schema': 'http://json-schema.org/draft-07/schema#',\n",
       " '$id': 'http://data.usgs.gov/property_registry/',\n",
       " 'type': 'array',\n",
       " 'title': 'SGCN Species on the FWS Listing Workplan',\n",
       " 'description': 'This dataset contains the results of a search for Workplan Species that are on a US State Species of Greatest Conservation Need list. It uses a synthesis of SGCN species maintained by the USGS and provided via an API.',\n",
       " 'items': {'$ref': '#/definitions/items',\n",
       "  'required': ['processing_metadata'],\n",
       "  'properties': {'processing_metadata': {'$ref': '#/definitions/processing_metadata'},\n",
       "   'parameters': {'$ref': '#/definitions/parameters',\n",
       "    'properties': {'Scientific Name': {'$id': '#Scientific Name',\n",
       "      'type': 'string',\n",
       "      'title': 'Scientific name for a biological species',\n",
       "      'description': 'The scientific or latin name for a species that was used as an input parameter to an API',\n",
       "      'examples': ['Rhyacotriton cascadae']},\n",
       "     'Name Source': {'$id': '#Name Source',\n",
       "      'type': 'string',\n",
       "      'title': 'Source of a name used as a parameter',\n",
       "      'description': 'A string denoting the source for the scientific name used in the IUCN Red List search. Useful for determining the provenance of the name used.',\n",
       "      'examples': ['Lookup Name', 'Valid ITIS Scientific Name']}}},\n",
       "   'sgcn_species': {'$id': '#/items/properties/sgcn_species',\n",
       "    'type': 'object',\n",
       "    'title': 'SGCN Species',\n",
       "    'description': 'A data object containing a cache of summary information on a US State Species of Greatest Conservation Need.',\n",
       "    'required': ['statelist_2005',\n",
       "     'statelist_2015',\n",
       "     'scientificname',\n",
       "     'commonname',\n",
       "     'taxonomicgroup',\n",
       "     'taxonomicrank',\n",
       "     'matchmethod',\n",
       "     'acceptedauthorityurl'],\n",
       "    'properties': {'statelist_2005': {'$id': '#/items/properties/sgcn_species/properties/statelist_2005',\n",
       "      'type': 'string',\n",
       "      'title': 'Statelist_2005',\n",
       "      'description': \"A list of US State and Territory names where the species was included on the State's Wildlife Action Plan (SWAP) in 2005.\",\n",
       "      'examples': ['Oregon,Washington']},\n",
       "     'statelist_2015': {'$id': '#/items/properties/sgcn_species/properties/statelist_2015',\n",
       "      'type': 'string',\n",
       "      'title': 'Statelist_2015',\n",
       "      'description': 'A list of US State and Territory names where the species was submitted as a Species of Greatest Conservation Need in 2015.',\n",
       "      'examples': ['Oregon,Washington']},\n",
       "     'scientificname': {'$id': '#/items/properties/sgcn_species/properties/scientificname',\n",
       "      'type': 'string',\n",
       "      'title': 'Scientific Name',\n",
       "      'description': 'The scientific (latin) name for the species as synthesized from authority sources for the SGCN National List.',\n",
       "      'examples': ['Rhyacotriton cascadae']},\n",
       "     'commonname': {'$id': '#/items/properties/sgcn_species/properties/commonname',\n",
       "      'type': 'string',\n",
       "      'title': 'Common Name',\n",
       "      'description': 'A common (vernacular) name for the species.',\n",
       "      'examples': ['Cascade Torrent Salamander']},\n",
       "     'taxonomicgroup': {'$id': '#/items/properties/sgcn_species/properties/taxonomicgroup',\n",
       "      'type': 'string',\n",
       "      'title': 'Taxonomic Group',\n",
       "      'description': 'A high level conceptual grouping for the species. Values are similar and some align with the species guild concept but also include other names in common use.',\n",
       "      'examples': ['Amphibians']},\n",
       "     'taxonomicrank': {'$id': '#/items/properties/sgcn_species/properties/taxonomicrank',\n",
       "      'type': 'string',\n",
       "      'title': 'Taxonomic Rank',\n",
       "      'description': 'Rank for the taxon in the taxonomic tree.',\n",
       "      'examples': ['Species']},\n",
       "     'matchmethod': {'$id': '#/items/properties/sgcn_species/properties/matchmethod',\n",
       "      'type': 'string',\n",
       "      'title': 'Match Method',\n",
       "      'description': 'An indication of how the species name from State lists was matched to taxonomic authorities.',\n",
       "      'examples': ['Exact Match']},\n",
       "     'acceptedauthorityurl': {'$id': '#/items/properties/sgcn_species/properties/acceptedauthorityurl',\n",
       "      'type': 'string',\n",
       "      'title': 'Accepted Authority URL',\n",
       "      'description': 'A URL link to the taxonomic authority record to which the submitted species name(s) was/were matched to place the species on the national synthesized list.',\n",
       "      'examples': ['https://www.itis.gov/servlet/SingleRpt/SingleRpt?search_topic=TSN&search_value=550250']}}}}}}"
      ]
     },
     "metadata": {},
     "output_type": "display_data"
    }
   ],
   "source": [
    "sgcn_schema = helperfunctions.load_schema('sgcn')\n",
    "display(sgcn_schema)\n",
    "\n",
    "jsonschema.validate(sgcn_results, sgcn_schema)"
   ]
  },
  {
   "cell_type": "markdown",
   "metadata": {},
   "source": [
    "# Interesting Facets\n",
    "As a point of reference, we were able to find a number of additional matches to the SGCN species based on having established a linkage to a valid ITIS record. The following code block provides a quick reference on the number of SGCN matches found (high number linked to state species of conservation need as we would expect) and the number found by having the ITIS information included in the name lookup.\n",
    "\n",
    "Also, in looking at the overall results, we see that there are 72 names in the workplan species list that are not found on any current state list of species of greatest conservation need."
   ]
  },
  {
   "cell_type": "code",
   "execution_count": 10,
   "metadata": {},
   "outputs": [
    {
     "data": {
      "text/plain": [
       "Counter({'Lookup Name': 304, 'Valid ITIS Scientific Name': 9})"
      ]
     },
     "execution_count": 10,
     "metadata": {},
     "output_type": "execute_result"
    }
   ],
   "source": [
    "Counter(spp[\"parameters\"][\"Name Source\"] for spp in [r for r in sgcn_results if r[\"processing_metadata\"][\"status\"] == \"success\"])"
   ]
  },
  {
   "cell_type": "code",
   "execution_count": 9,
   "metadata": {},
   "outputs": [
    {
     "data": {
      "text/plain": [
       "Counter({'success': 313, 'failure': 74})"
      ]
     },
     "execution_count": 9,
     "metadata": {},
     "output_type": "execute_result"
    }
   ],
   "source": [
    "Counter(spp[\"processing_metadata\"][\"status\"] for spp in sgcn_results)"
   ]
  },
  {
   "cell_type": "code",
   "execution_count": null,
   "metadata": {},
   "outputs": [],
   "source": []
  }
 ],
 "metadata": {
  "kernelspec": {
   "display_name": "Python 3",
   "language": "python",
   "name": "python3"
  },
  "language_info": {
   "codemirror_mode": {
    "name": "ipython",
    "version": 3
   },
   "file_extension": ".py",
   "mimetype": "text/x-python",
   "name": "python",
   "nbconvert_exporter": "python",
   "pygments_lexer": "ipython3",
   "version": "3.7.3"
  }
 },
 "nbformat": 4,
 "nbformat_minor": 2
}
