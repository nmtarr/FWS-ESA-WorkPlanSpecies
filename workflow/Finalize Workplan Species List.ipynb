{
 "cells": [
  {
   "cell_type": "markdown",
   "metadata": {},
   "source": [
    "Before we move on to other data retrieval activities, it is useful to explore what we found in consulting ITIS with either declared TSN identifiers or scientific name searches to see if there is any further work that can be done to improve our ability and accuracy in getting other data sources pulled together. This notebook examines the cached ITIS results and makes some decisions about what to do next."
   ]
  },
  {
   "cell_type": "code",
   "execution_count": 1,
   "metadata": {},
   "outputs": [],
   "source": [
    "import json\n",
    "import bispy\n",
    "import jsonschema\n",
    "from collections import Counter\n",
    "\n",
    "bis_utils = bispy.bis.Utils()\n",
    "\n",
    "import helperfunctions"
   ]
  },
  {
   "cell_type": "code",
   "execution_count": 2,
   "metadata": {},
   "outputs": [],
   "source": [
    "with open(\"../cache/workplan_species.json\", \"r\") as f:\n",
    "    workplan_species = json.loads(f.read())\n",
    "    f.close()\n",
    "\n",
    "with open(\"../cache/itis.json\", \"r\") as f:\n",
    "    itis_cache = json.loads(f.read())\n",
    "    f.close()"
   ]
  },
  {
   "cell_type": "markdown",
   "metadata": {},
   "source": [
    "All of the cases where we returned more than one ITIS record from the function mean that something interesting happened. We can check this pretty quickly by looking at the \"Processing Metadata\" that our function records. In all of the cases here, our code followed the accepted TSN declared at the point of discovery, whether based on what appears to have been an invalid TSN assignment from the FWS source information or a name lookup that was invalid but for which there is a valid record in ITIS.\n",
    "\n",
    "The following codeblock lets us examine what is going on in these cases. The Processing Metadata structure is what our function records about what it did. It includes the URLs to the ITIS API that resulted in some action. We record both the valid/accepted and invalid/unaccepted names from ITIS and reach back to the workplan_species to show that record."
   ]
  },
  {
   "cell_type": "code",
   "execution_count": 3,
   "metadata": {},
   "outputs": [
    {
     "name": "stdout",
     "output_type": "stream",
     "text": [
      "ITIS TSN used in lookup: 207135\n"
     ]
    },
    {
     "data": {
      "text/plain": [
       "{'status': 'success',\n",
       " 'date_processed': '2019-07-24T15:48:35.628743',\n",
       " 'status_message': 'Followed Accepted TSN',\n",
       " 'details': [{'TSN Search': 'http://services.itis.gov/?wt=json&rows=10&q=tsn:773525'},\n",
       "  {'Exact Match': 'http://services.itis.gov/?wt=json&rows=10&q=tsn:207135'}]}"
      ]
     },
     "metadata": {},
     "output_type": "display_data"
    },
    {
     "name": "stdout",
     "output_type": "stream",
     "text": [
      "ITIS TSN used in lookup: 80066\n"
     ]
    },
    {
     "data": {
      "text/plain": [
       "{'status': 'success',\n",
       " 'date_processed': '2019-07-24T15:48:35.628743',\n",
       " 'status_message': 'Followed Accepted TSN',\n",
       " 'details': [{'TSN Search': 'http://services.itis.gov/?wt=json&rows=10&q=tsn:983630'},\n",
       "  {'Exact Match': 'http://services.itis.gov/?wt=json&rows=10&q=tsn:80066'}]}"
      ]
     },
     "metadata": {},
     "output_type": "display_data"
    },
    {
     "name": "stdout",
     "output_type": "stream",
     "text": [
      "ITIS TSN used in lookup: 80079\n"
     ]
    },
    {
     "data": {
      "text/plain": [
       "{'status': 'success',\n",
       " 'date_processed': '2019-07-24T15:48:35.628743',\n",
       " 'status_message': 'Followed Accepted TSN',\n",
       " 'details': [{'TSN Search': 'http://services.itis.gov/?wt=json&rows=10&q=tsn:983775'},\n",
       "  {'Exact Match': 'http://services.itis.gov/?wt=json&rows=10&q=tsn:80079'}]}"
      ]
     },
     "metadata": {},
     "output_type": "display_data"
    },
    {
     "name": "stdout",
     "output_type": "stream",
     "text": [
      "ITIS TSN used in lookup: 173717\n"
     ]
    },
    {
     "data": {
      "text/plain": [
       "{'status': 'success',\n",
       " 'date_processed': '2019-07-24T15:48:35.628743',\n",
       " 'status_message': 'Followed Accepted TSN',\n",
       " 'details': [{'TSN Search': 'http://services.itis.gov/?wt=json&rows=10&q=tsn:775913'},\n",
       "  {'Exact Match': 'http://services.itis.gov/?wt=json&rows=10&q=tsn:173717'}]}"
      ]
     },
     "metadata": {},
     "output_type": "display_data"
    },
    {
     "name": "stdout",
     "output_type": "stream",
     "text": [
      "ITIS TSN used in lookup: 567231\n"
     ]
    },
    {
     "data": {
      "text/plain": [
       "{'status': 'success',\n",
       " 'date_processed': '2019-07-24T15:48:35.628743',\n",
       " 'status_message': 'Followed Accepted TSN',\n",
       " 'details': [{'TSN Search': 'http://services.itis.gov/?wt=json&rows=10&q=tsn:983772'},\n",
       "  {'Exact Match': 'http://services.itis.gov/?wt=json&rows=10&q=tsn:567231'}]}"
      ]
     },
     "metadata": {},
     "output_type": "display_data"
    },
    {
     "name": "stdout",
     "output_type": "stream",
     "text": [
      "ITIS TSN used in lookup: 894872\n"
     ]
    },
    {
     "data": {
      "text/plain": [
       "{'status': 'success',\n",
       " 'date_processed': '2019-07-24T15:48:35.628743',\n",
       " 'status_message': 'Followed Accepted TSN',\n",
       " 'details': [{'TSN Search': 'http://services.itis.gov/?wt=json&rows=10&q=tsn:894898'},\n",
       "  {'Exact Match': 'http://services.itis.gov/?wt=json&rows=10&q=tsn:894872'}]}"
      ]
     },
     "metadata": {},
     "output_type": "display_data"
    },
    {
     "name": "stdout",
     "output_type": "stream",
     "text": [
      "ITIS TSN used in lookup: 524343\n"
     ]
    },
    {
     "data": {
      "text/plain": [
       "{'status': 'success',\n",
       " 'date_processed': '2019-07-24T15:48:35.628743',\n",
       " 'status_message': 'Followed Accepted TSN',\n",
       " 'details': [{'TSN Search': 'http://services.itis.gov/?wt=json&rows=10&q=tsn:517582'},\n",
       "  {'Exact Match': 'http://services.itis.gov/?wt=json&rows=10&q=tsn:524343'}]}"
      ]
     },
     "metadata": {},
     "output_type": "display_data"
    },
    {
     "name": "stdout",
     "output_type": "stream",
     "text": [
      "ITIS TSN used in lookup: 547326\n"
     ]
    },
    {
     "data": {
      "text/plain": [
       "{'status': 'success',\n",
       " 'date_processed': '2019-07-24T15:48:35.628743',\n",
       " 'status_message': 'Followed Accepted TSN',\n",
       " 'details': [{'TSN Search': 'http://services.itis.gov/?wt=json&rows=10&q=tsn:1063038'},\n",
       "  {'Exact Match': 'http://services.itis.gov/?wt=json&rows=10&q=tsn:547326'}]}"
      ]
     },
     "metadata": {},
     "output_type": "display_data"
    },
    {
     "name": "stdout",
     "output_type": "stream",
     "text": [
      "ITIS TSN used in lookup: 183452\n"
     ]
    },
    {
     "data": {
      "text/plain": [
       "{'status': 'success',\n",
       " 'date_processed': '2019-07-24T15:48:35.628743',\n",
       " 'status_message': 'Followed Accepted TSN',\n",
       " 'details': [{'TSN Search': 'http://services.itis.gov/?wt=json&rows=10&q=tsn:822596'},\n",
       "  {'Exact Match': 'http://services.itis.gov/?wt=json&rows=10&q=tsn:183452'}]}"
      ]
     },
     "metadata": {},
     "output_type": "display_data"
    },
    {
     "name": "stdout",
     "output_type": "stream",
     "text": [
      "ITIS TSN used in lookup: 209559\n"
     ]
    },
    {
     "data": {
      "text/plain": [
       "{'status': 'success',\n",
       " 'date_processed': '2019-07-24T15:48:35.628743',\n",
       " 'status_message': 'Followed Accepted TSN',\n",
       " 'details': [{'TSN Search': 'http://services.itis.gov/?wt=json&rows=10&q=tsn:683027'},\n",
       "  {'Exact Match': 'http://services.itis.gov/?wt=json&rows=10&q=tsn:209559'}]}"
      ]
     },
     "metadata": {},
     "output_type": "display_data"
    },
    {
     "name": "stdout",
     "output_type": "stream",
     "text": [
      "ITIS TSN used in lookup: 898971\n"
     ]
    },
    {
     "data": {
      "text/plain": [
       "{'status': 'success',\n",
       " 'date_processed': '2019-07-24T15:48:35.628743',\n",
       " 'status_message': 'Followed Accepted TSN',\n",
       " 'details': [{'TSN Search': 'http://services.itis.gov/?wt=json&rows=10&q=tsn:898420'},\n",
       "  {'Exact Match': 'http://services.itis.gov/?wt=json&rows=10&q=tsn:898971'}]}"
      ]
     },
     "metadata": {},
     "output_type": "display_data"
    },
    {
     "name": "stdout",
     "output_type": "stream",
     "text": [
      "ITIS TSN used in lookup: 898971\n"
     ]
    },
    {
     "data": {
      "text/plain": [
       "{'status': 'success',\n",
       " 'date_processed': '2019-07-24T15:48:35.628743',\n",
       " 'status_message': 'Followed Accepted TSN',\n",
       " 'details': [{'TSN Search': 'http://services.itis.gov/?wt=json&rows=10&q=tsn:898420'},\n",
       "  {'Exact Match': 'http://services.itis.gov/?wt=json&rows=10&q=tsn:898971'}]}"
      ]
     },
     "metadata": {},
     "output_type": "display_data"
    },
    {
     "name": "stdout",
     "output_type": "stream",
     "text": [
      "ITIS TSN used in lookup: 174277\n"
     ]
    },
    {
     "data": {
      "text/plain": [
       "{'status': 'success',\n",
       " 'date_processed': '2019-07-24T15:48:35.628743',\n",
       " 'status_message': 'Followed Accepted TSN',\n",
       " 'details': [{'TSN Search': 'http://services.itis.gov/?wt=json&rows=10&q=tsn:1082386'},\n",
       "  {'Exact Match': 'http://services.itis.gov/?wt=json&rows=10&q=tsn:174277'}]}"
      ]
     },
     "metadata": {},
     "output_type": "display_data"
    },
    {
     "name": "stdout",
     "output_type": "stream",
     "text": [
      "ITIS TSN used in lookup: 174277\n"
     ]
    },
    {
     "data": {
      "text/plain": [
       "{'status': 'success',\n",
       " 'date_processed': '2019-07-24T15:48:35.628743',\n",
       " 'status_message': 'Followed Accepted TSN',\n",
       " 'details': [{'TSN Search': 'http://services.itis.gov/?wt=json&rows=10&q=tsn:1082386'},\n",
       "  {'Exact Match': 'http://services.itis.gov/?wt=json&rows=10&q=tsn:174277'}]}"
      ]
     },
     "metadata": {},
     "output_type": "display_data"
    }
   ],
   "source": [
    "for r in [i for i in itis_cache if \"itis_data\" in i.keys() and len(i[\"itis_data\"]) > 1]:\n",
    "    source_url = next((o for o in r[\"processing_metadata\"][\"details\"] if \"Exact Match\" in o.keys()), None)\n",
    "    if not source_url:\n",
    "        source_url = next((o for o in r[\"processing_metadata\"][\"details\"] if \"Exact Match Fail\" in o.keys()), None)\n",
    "    source_url = next((v for k, v in source_url.items()), None)\n",
    "    source_identifier = source_url.split(\":\")[-1].replace(\"\\%20\", \" \")\n",
    "    if source_identifier.isdigit():\n",
    "        print(\"ITIS TSN used in lookup:\", source_identifier)\n",
    "    else:\n",
    "        print(\"Scientific name used in lookup:\", source_identifier)\n",
    "    \n",
    "    display(r[\"processing_metadata\"])\n"
   ]
  },
  {
   "cell_type": "markdown",
   "metadata": {},
   "source": [
    "There are essentially three things that seem to be going on here:\n",
    "\n",
    "1. There are cases where the FWS data declares a TSN for what ITIS considers to be invalid (animals)/unaccepted (plants) taxonomy. It could be that FWS biologists disagree with ITIS or simply a matter of FWS information being out of date. We don't have enough information as yet to make a judgment.\n",
    "2. There are cases where the FWS data uses a scientific name that ITIS considers to be invalid/unaccepted. This is kind of the same issue as no. 1, but it could be that FWS is out of date with whatever has happened in the ITIS taxonomy world.\n",
    "3. There is one case of a misspelling (Macroclemys temmincki should have been Macroclemys temminckii) where the search had to go to a fuzzy match to find the record. In this case, ITIS considers one of its records to be invalid and the other valid, though they are ultimately for the same name. \n",
    "\n",
    "Because there could be disagreement on the part of species biologists with the taxonomic authority, the conservative course of action here is to record the valid ITIS name and other information as an additional potential point of reference. If we run into cases where the FWS name does not find results in another system we are checking for data, we can try the ITIS valid/accepted name to see what we can turn up, flagging that result with some uncertainty factor or note to help determine its utility.\n",
    "\n",
    "The following code block establishes a connection back to the appropriate originating record in the workplan_species data and injects ITIS valid/accepted names into a new attribute, just for these cases where we may want to use that additional information."
   ]
  },
  {
   "cell_type": "code",
   "execution_count": 4,
   "metadata": {},
   "outputs": [],
   "source": [
    "updated_workplan_species = list()\n",
    "\n",
    "for r in [i for i in itis_cache if \"itis_data\" in i.keys() and len(i[\"itis_data\"]) > 1]:\n",
    "    source_url = next((o for o in r[\"processing_metadata\"][\"details\"] if \"Exact Match\" in o.keys()), None)\n",
    "    if not source_url:\n",
    "        source_url = next((o for o in r[\"processing_metadata\"][\"details\"] if \"Exact Match Fail\" in o.keys()), None)\n",
    "    source_url = next((v for k, v in source_url.items()), None)\n",
    "    source_identifier = source_url.split(\":\")[-1].replace(\"\\%20\", \" \")\n",
    "    if source_identifier.isdigit():\n",
    "        source_workplan_species = next((s for s in workplan_species if s[\"ITIS TSN\"] == source_identifier), None)\n",
    "    else:\n",
    "        source_workplan_species = next((s for s in workplan_species if s[\"Lookup Name\"] == source_identifier), None)\n",
    "    \n",
    "    source_workplan_species[\"Valid ITIS Scientific Name\"] = next((i[\"nameWOInd\"] for i in r[\"itis_data\"] if i[\"usage\"] in [\"valid\",\"accepted\"]), None)\n",
    "    source_workplan_species[\"Valid ITIS TSN\"] = next((i[\"tsn\"] for i in r[\"itis_data\"] if i[\"usage\"] in [\"valid\",\"accepted\"]), None)\n",
    "    updated_workplan_species.append(source_workplan_species)\n"
   ]
  },
  {
   "cell_type": "code",
   "execution_count": 5,
   "metadata": {},
   "outputs": [
    {
     "data": {
      "text/plain": [
       "{'Doc Cache File': 'cache/workplan_species.json',\n",
       " 'Number of Documents in Cache': 373,\n",
       " 'Document Number 39': {'Guild': 'Bivalves',\n",
       "  'Species Name (Common)': 'triangle pigtoe',\n",
       "  'Scientific Name': 'Fusconaia lananensis',\n",
       "  'Lead FWS Regional Office': 'Region 2 - Southwest',\n",
       "  'Proposed FWS Decision Timeframe (Fiscal Year)': 2019,\n",
       "  'Range': 'TX',\n",
       "  'Bin': None,\n",
       "  'ECOS Link': 'https://ecos.fws.gov/ecp/species/10339',\n",
       "  'ITIS TSN': '80048',\n",
       "  'Lookup Name': 'Fusconaia lananensis'}}"
      ]
     },
     "metadata": {},
     "output_type": "display_data"
    }
   ],
   "source": [
    "# Build a new workplan species recordset, injecting the augmented records\n",
    "new_workplan_species = list()\n",
    "for s in workplan_species:\n",
    "    new_record = next((r for r in updated_workplan_species if r[\"Lookup Name\"] == s[\"Lookup Name\"]), None)\n",
    "    if new_record:\n",
    "        new_workplan_species.append(new_record)\n",
    "    else:\n",
    "        new_workplan_species.append(s)\n",
    "\n",
    "# Cache the new set of workplan species information\n",
    "display(bis_utils.doc_cache(\"../cache/workplan_species.json\", new_workplan_species))"
   ]
  },
  {
   "cell_type": "markdown",
   "metadata": {},
   "source": [
    "# Schema Validation\n",
    "Building out the schema for the workplan_species dataset used in subsequent lookup and data assembly steps gave me an opportunity to explore the enum aspect of the JSON Schema specification. This is a way of forcing a set of available values for a property, analogous to specifying enumerated domain values in FGDC metadata or ISO Feature Catalog. There were a few properties in the workplan species list that lend themselves to this approach. As we look toward scaling this methodology, we will develop the semantic infrastructure behind the system such that defined \"code lists\" and more robust vocabularies are used to drive validation mechanisms.\n",
    "\n",
    "I also ran into a technical snag in using the jsonschema package for validation where passing the entire list of workplan species documents resulted in a recursion error that I could not resolve. Alternatively, I iterated through each document to validate against the schema individually, which was not noticeably slower anyway."
   ]
  },
  {
   "cell_type": "code",
   "execution_count": 6,
   "metadata": {},
   "outputs": [
    {
     "data": {
      "text/plain": [
       "{'definitions': {'items': {'$id': '#/items',\n",
       "   'type': ['object', 'array'],\n",
       "   'title': 'Generic container for items in a dataset',\n",
       "   'description': 'A JSON array or object property containing one or more items in a dataset'},\n",
       "  'doi': {'$id': '#doi',\n",
       "   'type': ['string', 'null'],\n",
       "   'title': 'Digital Object Identifier',\n",
       "   'description': 'A digital object identifier for or associated with a record. May be in the form of an HTTP url or a standalone identifier.',\n",
       "   'examples': ['http://dx.doi.org/10.2305/IUCN.UK.2004.RLTS.T59435A11941314.en',\n",
       "    '10.2305/IUCN.UK.2004.RLTS.T59435A11941314.en']},\n",
       "  'resolvable_identifier': {'$id': '#resolvable_identifier',\n",
       "   'type': 'string',\n",
       "   'title': 'Resolvable Identifier',\n",
       "   'description': 'Some form of resolvable identifier for a record that returns a response when accessed over an included protocol such as HTTP. May or may not provide for content negotiation.',\n",
       "   'examples': ['https://www.iucnredlist.org/species/59435/11941314']},\n",
       "  'citation_string': {'$id': '#citation_string',\n",
       "   'type': 'string',\n",
       "   'title': 'Citation String',\n",
       "   'description': 'A citation string directly associated with a resource record. Can be any parseable citation string.'},\n",
       "  'record_date': {'$id': '#record_date',\n",
       "   'type': 'string',\n",
       "   'title': 'The date that a record was considered valid from its source',\n",
       "   'description': 'A date supplied by a record source indicating when it was considered valid or current.',\n",
       "   'examples': ['2004-04-30']},\n",
       "  'document_title': {'$id': '#document_title',\n",
       "   'type': 'string',\n",
       "   'title': 'The title for a document of any type',\n",
       "   'description': 'A generic property used to hold the title for a document.',\n",
       "   'examples': ['War and Peace']},\n",
       "  'document_link': {'$id': '#document_title',\n",
       "   'type': 'string',\n",
       "   'title': 'A web link (URL) to access a document online',\n",
       "   'description': 'A generic property used to hold a resolvable link to a document of any type.',\n",
       "   'examples': ['https://www.gutenberg.org/files/2600/2600-h/2600-h.htm']},\n",
       "  'publication_date': {'$id': '#publication_date',\n",
       "   'type': 'string',\n",
       "   'title': 'Date that a document or article was published',\n",
       "   'description': 'A generic property used to hold a date at multiple levels of precision that a document or article was published.',\n",
       "   'examples': ['1869']},\n",
       "  'date_created': {'$id': '#date_created',\n",
       "   'type': 'string',\n",
       "   'title': 'Date Created',\n",
       "   'description': 'Date/time at various levels of precision and formatting that a record was created standardized from source information.',\n",
       "   'examples': ['1997-05-06 15:49:08']},\n",
       "  'date_modified': {'$id': '#date_modified',\n",
       "   'type': 'string',\n",
       "   'title': 'Date Modified',\n",
       "   'description': 'Date/time at various levels of precision and formatting that a record was modified standardized from source information.',\n",
       "   'examples': ['2009-09-01 00:00:00']},\n",
       "  'biological_taxonomy': {'$id': '#biological_taxonomy',\n",
       "   'type': 'array',\n",
       "   'title': 'Biological Taxonomy',\n",
       "   'description': 'An array containing the full taxonomic hierarchy for the subject taxon with rank and name standardized into a useful form from source data.',\n",
       "   'items': {'$ref': '#/definitions/items', 'required': ['rank', 'name']},\n",
       "   'properties': {'rank': {'$id': '#/biological_taxonomy/items/properties/rank',\n",
       "     'type': 'string',\n",
       "     'title': 'Taxonomic Rank',\n",
       "     'description': 'The specific rank in the taxonomic hierarchy.',\n",
       "     'examples': ['Kingdom']},\n",
       "    'name': {'$id': '#/biological_taxonomy/items/properties/name',\n",
       "     'type': 'string',\n",
       "     'title': 'Taxonomic Name',\n",
       "     'description': 'The scientific name at the hierarchical rank.',\n",
       "     'examples': ['Animalia']}}},\n",
       "  'processing_metadata': {'$id': '#processing_metadata',\n",
       "   'type': 'object',\n",
       "   'title': 'Object containing information about the processing of a record in a dataset',\n",
       "   'description': 'A container object that contains properties describing the specific processing details for a given record within a dataset. Contains standardized properties describing the processing.',\n",
       "   'required': ['status', 'date_processed', 'api'],\n",
       "   'properties': {'status': {'$id': '#status',\n",
       "     'type': 'string',\n",
       "     'title': 'The overall status of the record processing step',\n",
       "     'description': 'Describes one of three standardized states for the processing of a given record.',\n",
       "     'default': 'failure',\n",
       "     'examples': ['success', 'failure', 'error']},\n",
       "    'date_processed': {'$id': '#date_processed',\n",
       "     'type': 'string',\n",
       "     'title': 'The data and time that the process for a given record was conducted',\n",
       "     'description': 'Date time stamp in ISO8601 format denoting the point when the processing of the record occurred. Can be used to evaluate record currency with original source and trigger updates.',\n",
       "     'examples': ['2019-07-23T16:29:02.377774']},\n",
       "    'api': {'$id': '#api',\n",
       "     'type': 'string',\n",
       "     'title': 'A resolvable API string used to obtain or generate a record in a dataset',\n",
       "     'description': 'Some form of resolvable Application Programming Interface such as a REST URL that was used to generate the record being documented. Often passed through a function of some kind to process the results.',\n",
       "     'format': 'uri'},\n",
       "    'status_message': {'$id': '#status_message',\n",
       "     'type': 'string',\n",
       "     'title': 'Message with further details about the status of a record',\n",
       "     'description': 'Per dataset, this string contains context-specific details about the status or state of a record that was processed.'},\n",
       "    'details': {'$id': '#details',\n",
       "     'type': 'array',\n",
       "     'title': 'Data Processing Details',\n",
       "     'description': 'A list of statements describing additional specific details about the process of generating a record.'}}}},\n",
       " '$schema': 'http://json-schema.org/draft-07/schema#',\n",
       " '$id': 'http://data.usgs.gov/property_registry/',\n",
       " 'type': ['array', 'object'],\n",
       " 'title': 'FWS National Listing Workplan Species',\n",
       " 'description': 'A processed dataset of the FWS National Listing Workplan species from original source material. Includes the addition of properties to aid in name/identifier lookup from other sources.',\n",
       " 'items': {'$ref': '#/items',\n",
       "  'required': ['Guild',\n",
       "   'Species Name (Common)',\n",
       "   'Scientific Name',\n",
       "   'Lead FWS Regional Office',\n",
       "   'Proposed FWS Decision Timeframe (Fiscal Year)',\n",
       "   'Range',\n",
       "   'Bin',\n",
       "   'ECOS Link',\n",
       "   'ITIS TSN',\n",
       "   'Lookup Name']},\n",
       " 'properties': {'Guild': {'$id': '#/items/properties/Guild',\n",
       "   'type': 'string',\n",
       "   'title': 'Species Guild',\n",
       "   'description': 'A high level grouping of species into guilds. This property was added by USGS Ecosystems Mission Area staff to help organize the original FWS list.',\n",
       "   'enum': ['Amphibians',\n",
       "    'Birds',\n",
       "    'Flowering Plants',\n",
       "    'Insects',\n",
       "    'Mammals',\n",
       "    'Snails',\n",
       "    'Bivalves',\n",
       "    'Crustaceans',\n",
       "    'Fishes',\n",
       "    'Non-Flowering Plants',\n",
       "    'Reptiles']},\n",
       "  'Species Name (Common)': {'$id': '#/items/properties/Species Name (Common)',\n",
       "   'type': 'string',\n",
       "   'title': 'Species Common Name',\n",
       "   'description': 'A common (vernacular) name for the species.',\n",
       "   'examples': ['Arizona toad']},\n",
       "  'Scientific Name': {'$id': '#/items/properties/Scientific Name',\n",
       "   'type': 'string',\n",
       "   'title': 'Scientific Name',\n",
       "   'description': 'The scientific (latin) name for the species.',\n",
       "   'examples': ['Bufo microscaphus microscaphus']},\n",
       "  'Lead FWS Regional Office': {'$id': '#/items/properties/Lead FWS Regional Office',\n",
       "   'type': 'string',\n",
       "   'title': 'Lead FWS Regional Office',\n",
       "   'description': 'The FWS Regional Office with lead for the listing process.',\n",
       "   'enum': ['Region 1 - Pacific (Northwest)',\n",
       "    'Region 2 - Southwest',\n",
       "    'Region 3 - Midwest',\n",
       "    'Region 4 - Southeast',\n",
       "    'Region 5 - Northeast',\n",
       "    'Region 6 - Mountain-Prairie',\n",
       "    'Region 7 - Alaska',\n",
       "    'Region 8 - Pacific Southwest']},\n",
       "  'Proposed FWS Decision Timeframe (Fiscal Year)': {'$id': '#/items/properties/Proposed FWS Decision Timeframe (Fiscal Year)',\n",
       "   'type': 'integer',\n",
       "   'title': 'Proposed fws decision timeframe (fiscal year)',\n",
       "   'description': 'The proposed time frame in which the FWS will seek to make a decision on listing.',\n",
       "   'enum': [2023, 2022, 2021, 2020, 2017, 2019, 2018]},\n",
       "  'Range': {'$id': '#/items/properties/Range',\n",
       "   'type': 'string',\n",
       "   'title': 'Geographic Range',\n",
       "   'description': 'A list of US states and other areas considered to be in the range of the species.',\n",
       "   'examples': ['AZ, CA, NM, NV, UT']},\n",
       "  'Bin': {'$id': '#/items/properties/Bin',\n",
       "   'type': ['null', 'string'],\n",
       "   'title': 'Bin',\n",
       "   'description': 'A text value for a listing workplan bin assignment.',\n",
       "   'enum': [None, 'LPN 9', 'LPN 2', 'LPN 8', 'LPN 6', 'LPN 5', 'LPN 3']},\n",
       "  'ECOS Link': {'$id': '#/items/properties/ECOS Link',\n",
       "   'type': ['null', 'string'],\n",
       "   'title': 'ECOS Link',\n",
       "   'description': 'Web link to a species information page in the USFWS Ecological Conservation Online System. It is not clear when or by whom this property was added to original source material.',\n",
       "   'examples': ['https://ecos.fws.gov/ecp/species/2077']},\n",
       "  'ITIS TSN': {'$id': '#/items/properties/ITIS TSN',\n",
       "   'type': ['string', 'null'],\n",
       "   'title': 'ITIS TSN',\n",
       "   'description': 'The ITIS Taxonomic Serial Number added into the data from processing steps.',\n",
       "   'examples': ['207135']},\n",
       "  'Lookup Name': {'$id': '#/items/properties/Lookup Name',\n",
       "   'type': 'string',\n",
       "   'title': 'Lookup Name',\n",
       "   'description': 'The most appropriate name to use in species lookup based on processing steps. In some cases, an original name string contained species identification information that would hinder rather than help in API searches, and these were cut down to the best name string available.',\n",
       "   'examples': ['Bufo microscaphus microscaphus']},\n",
       "  'Valid ITIS Scientific Name': {'$id': '#/items/properties/Valid ITIS Scientific Name',\n",
       "   'type': 'string',\n",
       "   'title': 'Valid ITIS scientific Name',\n",
       "   'description': 'Based on previous processing steps, when applicable the valid scientific name according to ITIS was added to serve as an additional name in searches.',\n",
       "   'examples': ['Anaxyrus microscaphus']},\n",
       "  'Valid ITIS TSN': {'$id': '#/items/properties/Valid ITIS TSN',\n",
       "   'type': 'string',\n",
       "   'title': 'Valid ITIS TSN',\n",
       "   'description': 'Based on previous processing steps, when applicable the valid TSN  according to ITIS was added.',\n",
       "   'examples': ['773525']}}}"
      ]
     },
     "metadata": {},
     "output_type": "display_data"
    }
   ],
   "source": [
    "workplan_species_schema = helperfunctions.load_schema('workplan_species')\n",
    "display(workplan_species_schema)\n",
    "\n",
    "for record in new_workplan_species:\n",
    "    jsonschema.validate(record, workplan_species_schema)"
   ]
  },
  {
   "cell_type": "code",
   "execution_count": null,
   "metadata": {},
   "outputs": [],
   "source": []
  }
 ],
 "metadata": {
  "kernelspec": {
   "display_name": "Python 3",
   "language": "python",
   "name": "python3"
  },
  "language_info": {
   "codemirror_mode": {
    "name": "ipython",
    "version": 3
   },
   "file_extension": ".py",
   "mimetype": "text/x-python",
   "name": "python",
   "nbconvert_exporter": "python",
   "pygments_lexer": "ipython3",
   "version": "3.7.3"
  }
 },
 "nbformat": 4,
 "nbformat_minor": 2
}
