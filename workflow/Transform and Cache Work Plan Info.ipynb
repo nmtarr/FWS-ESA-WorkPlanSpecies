{
 "cells": [
  {
   "cell_type": "markdown",
   "metadata": {},
   "source": [
    "The FWS work plan species originated from a published PDF file, but then a number of things have gone on over time to assemble information and assistance that USGS can provide from across Mission Areas and Science Centers. Much of this has been put together into one core spreadsheet that we are treating here as our master source (sources/Prelisting Science USGS Master_19Mar2018.xlsx). The worksheets in the spreadsheet all contain various kinds of information that we work with elsewhere in these notebooks. The main listing we refer to is in the \"FWS 7 Year Workplan Species\" worksheet. It has been enhanced a bit over time with an additional field with species guilds used for organizational purposes.\n",
    "\n",
    "This notebook digests the spreadsheet a little bit to produce a data structure that is more conducive to working with in Python throughout this system."
   ]
  },
  {
   "cell_type": "code",
   "execution_count": 1,
   "metadata": {},
   "outputs": [],
   "source": [
    "import pandas as pd\n",
    "import numpy as np\n",
    "import bispy\n",
    "from IPython.display import display\n",
    "import json\n",
    "\n",
    "bis_utils = bispy.bis.Utils()\n",
    "\n",
    "import pickle"
   ]
  },
  {
   "cell_type": "code",
   "execution_count": 6,
   "metadata": {},
   "outputs": [],
   "source": [
    "# Open up the cache of ECOS info for use\n",
    "with open(\"../cache/ecos.json\", \"r\") as f:\n",
    "    cached_ecos_data = json.loads(f.read())\n",
    "    f.close()\n",
    "\n",
    "# Quick function to retrieve the ECOS Link (Search URL recorded in processing metadata) for cached ECOS scraped records\n",
    "def ecos_bits(name, return_var=\"ECOS Link\"):\n",
    "    ecos_scraped_record = next((r for r in cached_ecos_data if r[\"ecos_species_summary\"][\"Scientific Name\"] == name), None)\n",
    "    if ecos_scraped_record is None:\n",
    "        return_data = None\n",
    "    else:\n",
    "        if return_var == \"ECOS Link\":\n",
    "            return_data = ecos_scraped_record[\"processing_metadata\"][\"api\"]\n",
    "        elif return_var == \"ITIS TSN\":\n",
    "            return_data = ecos_scraped_record[\"ecos_species_summary\"][\"ITIS TSN\"]\n",
    "\n",
    "    return return_data\n",
    "\n",
    "spp_ecos_links = pd.read_excel(\n",
    "    \"../sources/AdditionalSourceData.xlsx\",\n",
    "    sheet_name=\"Extracted Species ECOS Links\"\n",
    ")\n",
    "\n",
    "def lookup_name(name):\n",
    "    return spp_ecos_links.loc[spp_ecos_links['Scientific Name'] == name, 'Lookup Name'].iloc[0]\n"
   ]
  },
  {
   "cell_type": "code",
   "execution_count": 7,
   "metadata": {},
   "outputs": [],
   "source": [
    "spp_list = pd.read_excel(\"../sources/Prelisting Science USGS Master_19Mar2018.xlsx\", sheet_name=\"FWS 7 Year Workplan Species\", usecols=\"A:G\")\n",
    "spp_list_clean = pd.DataFrame(spp_list).replace({np.nan:None}).apply(lambda x: x.str.strip() if x.dtype == \"object\" else x)\n",
    "spp_list_clean[\"ECOS Link\"] = spp_list_clean.apply(lambda x: ecos_bits(x[\"Scientific Name\"]), axis=1)\n",
    "spp_list_clean[\"ITIS TSN\"] = spp_list_clean.apply(lambda x: ecos_bits(x[\"Scientific Name\"], \"ITIS TSN\"), axis=1)\n",
    "spp_list_clean[\"Lookup Name\"] = spp_list_clean.apply(lambda x: lookup_name(x[\"Scientific Name\"]), axis=1)\n",
    "spp_list = pd.DataFrame(spp_list_clean).replace({np.nan:None}).apply(lambda x: x.str.strip() if x.dtype == \"object\" else x)\n"
   ]
  },
  {
   "cell_type": "code",
   "execution_count": 8,
   "metadata": {},
   "outputs": [
    {
     "data": {
      "text/plain": [
       "{'Doc Cache File': 'cache/workplan_species.json',\n",
       " 'Number of Documents in Cache': 363,\n",
       " 'Document Number 27': {'Guild': 'Birds',\n",
       "  'Species Name (Common)': 'lesser prairie-chicken',\n",
       "  'Scientific Name': 'Tympanuchus pallidicinctus',\n",
       "  'Lead FWS Regional Office': 'Region 2 - Southwest',\n",
       "  'Proposed FWS Decision Timeframe (Fiscal Year)': 2017,\n",
       "  'Range': 'CO, KS, NM, OK, TX',\n",
       "  'Bin': None,\n",
       "  'ECOS Link': 'https://ecos.fws.gov/ecp/species/1924',\n",
       "  'ITIS TSN': '175838',\n",
       "  'Lookup Name': 'Tympanuchus pallidicinctus'}}"
      ]
     },
     "metadata": {},
     "output_type": "display_data"
    }
   ],
   "source": [
    "# Cache the array of retrieved documents and return/display a random sample for verification\n",
    "display(bis_utils.doc_cache(\"../cache/workplan_species.json\", spp_list.to_dict(orient='records')))"
   ]
  },
  {
   "cell_type": "code",
   "execution_count": null,
   "metadata": {},
   "outputs": [],
   "source": []
  }
 ],
 "metadata": {
  "kernelspec": {
   "display_name": "Python 3",
   "language": "python",
   "name": "python3"
  },
  "language_info": {
   "codemirror_mode": {
    "name": "ipython",
    "version": 3
   },
   "file_extension": ".py",
   "mimetype": "text/x-python",
   "name": "python",
   "nbconvert_exporter": "python",
   "pygments_lexer": "ipython3",
   "version": "3.7.3"
  }
 },
 "nbformat": 4,
 "nbformat_minor": 2
}
