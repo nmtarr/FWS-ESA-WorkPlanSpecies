{
 "cells": [
  {
   "cell_type": "markdown",
   "metadata": {},
   "source": [
    "Perhaps one of the most important aspects of building a continuous stream of new information associated with species in the FWS work plan or other circumstances is the ability to identify and access new published literature. Many of the structured databases assembled and organized into this collection are based wholly or partly in literature references and information extracted from literature. We are currently working with the team developing the xDD Digital Library on a number of tools and techniques for a) identifying literature potentially applicable to species-based research and b) using natural language processing tools to pull specific data from those sources for use. This is an ongoing effort that will result in improved production capabilities over time.\n",
    "\n",
    "In the near term, we take advantage of some basic and enhanced search functionality to identify potential articles of interested in the xDD library of millions of documents that are increasing daily. The xdd module in the bispy package contains some search and packaging functionality that interfaces with the xDD REST API.\n",
    "\n",
    "# Data Management Considerations\n",
    "The xDD Library aspect of this overall workflow is likely the most dynamic area of the system we are building as new literature is coming out all the time and the xDD Library is continuing to expand rapidly in its work to index and process as many articles as possible. Through our partnership with University of Wisconsin-Madison and the xDD team, we also have the ability to collaborate on incorporating new sources of papers and meaningful gray literature as we dig further into sources of references that may not have yet found a route into the xDD processing engine."
   ]
  },
  {
   "cell_type": "code",
   "execution_count": 1,
   "metadata": {},
   "outputs": [],
   "source": [
    "import requests\n",
    "import bispy\n",
    "from IPython.display import display\n",
    "from joblib import Parallel, delayed\n",
    "import jsonschema\n",
    "\n",
    "xdd = bispy.xdd.Xdd()\n",
    "bis_utils = bispy.bis.Utils()\n",
    "\n",
    "import helperfunctions"
   ]
  },
  {
   "cell_type": "code",
   "execution_count": 2,
   "metadata": {},
   "outputs": [],
   "source": [
    "name_list = helperfunctions.workplan_species()"
   ]
  },
  {
   "cell_type": "code",
   "execution_count": 3,
   "metadata": {},
   "outputs": [
    {
     "name": "stdout",
     "output_type": "stream",
     "text": [
      "CPU times: user 1.08 s, sys: 135 ms, total: 1.22 s\n",
      "Wall time: 2min 8s\n"
     ]
    }
   ],
   "source": [
    "%%time\n",
    "# Use joblib to run multiple requests for SGCN records in parallel via scientific names\n",
    "xdd_results = Parallel(n_jobs=8)(delayed(xdd.snippets)(name) for name, name_source in name_list)\n"
   ]
  },
  {
   "cell_type": "code",
   "execution_count": 4,
   "metadata": {},
   "outputs": [
    {
     "data": {
      "text/plain": [
       "{'Doc Cache File': 'cache/xdd.json',\n",
       " 'Number of Documents in Cache': 387,\n",
       " 'Document Number 186': {'processing_metadata': {'status': 'failure',\n",
       "   'date_processed': '2019-07-24T22:33:20.898528',\n",
       "   'api': 'https://geodeepdive.org/api/snippets?full_results&clean&term=Nuphar lutea ssp. sagittifolia',\n",
       "   'status_message': 'No data returned.'},\n",
       "  'parameters': {'Search Term': 'Nuphar lutea ssp. sagittifolia'}}}"
      ]
     },
     "metadata": {},
     "output_type": "display_data"
    }
   ],
   "source": [
    "# Cache the array of retrieved documents and return/display a random sample for verification\n",
    "display(bis_utils.doc_cache(\"../cache/xdd.json\", xdd_results))"
   ]
  },
  {
   "cell_type": "code",
   "execution_count": 5,
   "metadata": {},
   "outputs": [
    {
     "data": {
      "text/plain": [
       "{'definitions': {'items': {'$id': '#/items',\n",
       "   'type': ['object', 'array'],\n",
       "   'title': 'Generic container for items in a dataset',\n",
       "   'description': 'A JSON array or object property containing one or more items in a dataset or data structure within a dataset.'},\n",
       "  'doi': {'$id': '#doi',\n",
       "   'type': ['string', 'null'],\n",
       "   'title': 'Digital Object Identifier',\n",
       "   'description': 'A digital object identifier for or associated with a record. May be in the form of an HTTP url or a standalone identifier.',\n",
       "   'examples': ['http://dx.doi.org/10.2305/IUCN.UK.2004.RLTS.T59435A11941314.en',\n",
       "    '10.2305/IUCN.UK.2004.RLTS.T59435A11941314.en']},\n",
       "  'resolvable_identifier': {'$id': '#resolvable_identifier',\n",
       "   'type': 'string',\n",
       "   'title': 'Resolvable Identifier',\n",
       "   'description': 'Some form of resolvable identifier for a record that returns a response when accessed over an included protocol such as HTTP. May or may not provide for content negotiation.',\n",
       "   'examples': ['https://www.iucnredlist.org/species/59435/11941314']},\n",
       "  'citation_string': {'$id': '#citation_string',\n",
       "   'type': 'string',\n",
       "   'title': 'Citation String',\n",
       "   'description': 'A citation string directly associated with a resource record. Can be any parseable citation string.'},\n",
       "  'record_date': {'$id': '#record_date',\n",
       "   'type': 'string',\n",
       "   'title': 'The date that a record was considered valid from its source',\n",
       "   'description': 'A date supplied by a record source indicating when it was considered valid or current.',\n",
       "   'examples': ['2004-04-30']},\n",
       "  'document_title': {'$id': '#document_title',\n",
       "   'type': 'string',\n",
       "   'title': 'The title for a document of any type',\n",
       "   'description': 'A generic property used to hold the title for a document.',\n",
       "   'examples': ['War and Peace']},\n",
       "  'document_link': {'$id': '#document_title',\n",
       "   'type': 'string',\n",
       "   'title': 'A web link (URL) to access a document online',\n",
       "   'description': 'A generic property used to hold a resolvable link to a document of any type.',\n",
       "   'examples': ['https://www.gutenberg.org/files/2600/2600-h/2600-h.htm']},\n",
       "  'publication_date': {'$id': '#publication_date',\n",
       "   'type': 'string',\n",
       "   'title': 'Date that a document or article was published',\n",
       "   'description': 'A generic property used to hold a date at multiple levels of precision that a document or article was published.',\n",
       "   'examples': ['1869']},\n",
       "  'date_created': {'$id': '#date_created',\n",
       "   'type': 'string',\n",
       "   'title': 'Date Created',\n",
       "   'description': 'Date/time at various levels of precision and formatting that a record was created standardized from source information.',\n",
       "   'examples': ['1997-05-06 15:49:08']},\n",
       "  'date_modified': {'$id': '#date_modified',\n",
       "   'type': 'string',\n",
       "   'title': 'Date Modified',\n",
       "   'description': 'Date/time at various levels of precision and formatting that a record was modified standardized from source information.',\n",
       "   'examples': ['2009-09-01 00:00:00']},\n",
       "  'biological_taxonomy': {'$id': '#biological_taxonomy',\n",
       "   'type': 'array',\n",
       "   'title': 'Biological Taxonomy',\n",
       "   'description': 'An array containing the full taxonomic hierarchy for the subject taxon with rank and name standardized into a useful form from source data.',\n",
       "   'items': {'$ref': '#/definitions/items', 'required': ['rank', 'name']},\n",
       "   'properties': {'rank': {'$id': '#/biological_taxonomy/items/properties/rank',\n",
       "     'type': 'string',\n",
       "     'title': 'Taxonomic Rank',\n",
       "     'description': 'The specific rank in the taxonomic hierarchy.',\n",
       "     'examples': ['Kingdom']},\n",
       "    'name': {'$id': '#/biological_taxonomy/items/properties/name',\n",
       "     'type': 'string',\n",
       "     'title': 'Taxonomic Name',\n",
       "     'description': 'The scientific name at the hierarchical rank.',\n",
       "     'examples': ['Animalia']}}},\n",
       "  'parameters': {'$id': '#/parameters',\n",
       "   'type': ['object', 'array'],\n",
       "   'title': 'Parameters',\n",
       "   'description': 'An object or array that contains context-specific parameters as key/value pairs used as input to generate a record in a dataset.'},\n",
       "  'processing_metadata': {'$id': '#processing_metadata',\n",
       "   'type': 'object',\n",
       "   'title': 'Object containing information about the processing of a record in a dataset',\n",
       "   'description': 'A container object that contains properties describing the specific processing details for a given record within a dataset. Contains standardized properties describing the processing.',\n",
       "   'required': ['status', 'date_processed', 'api'],\n",
       "   'properties': {'status': {'$id': '#status',\n",
       "     'type': 'string',\n",
       "     'title': 'The overall status of the record processing step',\n",
       "     'description': 'Describes one of three standardized states for the processing of a given record.',\n",
       "     'default': 'failure',\n",
       "     'examples': ['success', 'failure', 'error']},\n",
       "    'date_processed': {'$id': '#date_processed',\n",
       "     'type': 'string',\n",
       "     'title': 'The data and time that the process for a given record was conducted',\n",
       "     'description': 'Date time stamp in ISO8601 format denoting the point when the processing of the record occurred. Can be used to evaluate record currency with original source and trigger updates.',\n",
       "     'examples': ['2019-07-23T16:29:02.377774']},\n",
       "    'api': {'$id': '#api',\n",
       "     'type': 'string',\n",
       "     'title': 'A resolvable API string used to obtain or generate a record in a dataset',\n",
       "     'description': 'Some form of resolvable Application Programming Interface such as a REST URL that was used to generate the record being documented. Often passed through a function of some kind to process the results.',\n",
       "     'format': 'uri'},\n",
       "    'status_message': {'$id': '#status_message',\n",
       "     'type': 'string',\n",
       "     'title': 'Message with further details about the status of a record',\n",
       "     'description': 'Per dataset, this string contains context-specific details about the status or state of a record that was processed.'},\n",
       "    'details': {'$id': '#details',\n",
       "     'type': 'array',\n",
       "     'title': 'Data Processing Details',\n",
       "     'description': 'A list of statements describing additional specific details about the process of generating a record.'}}}},\n",
       " '$schema': 'http://json-schema.org/draft-07/schema#',\n",
       " '$id': 'http://data.usgs.gov/property_registry/',\n",
       " 'type': 'array',\n",
       " 'title': 'xDD Documents',\n",
       " 'description': 'A dataset that contains results of a directed search against the xDD (formerly GeoDeepDive) digital library (geodeepdive.org) for a given search term.',\n",
       " 'items': {'$ref': '#/definitions/items',\n",
       "  'required': ['processing_metadata'],\n",
       "  'properties': {'processing_metadata': {'$ref': '#/definitions/processing_metadata'},\n",
       "   'parameters': {'$ref': '#/definitions/parameters',\n",
       "    'properties': {'Search Term': {'$id': '#/items/properties/parameters/properties/Search Term',\n",
       "      'type': 'string',\n",
       "      'title': 'Search Term',\n",
       "      'description': 'The search term used to retrieve relevant documents from the xDD snippets API.',\n",
       "      'examples': ['Rhyacotriton cascadae']}}},\n",
       "   'xdd_documents': {'$id': '#/items/properties/xdd_documents',\n",
       "    'type': 'array',\n",
       "    'title': 'The Xdd_documents Schema',\n",
       "    'description': 'An explanation about the purpose of this instance.',\n",
       "    'items': {'$ref': '#/definitions/items',\n",
       "     'required': ['pubname',\n",
       "      'publisher',\n",
       "      '_gddid',\n",
       "      'title',\n",
       "      'doi',\n",
       "      'coverDate',\n",
       "      'URL',\n",
       "      'authors',\n",
       "      'highlight'],\n",
       "     'properties': {'document_title': {'$ref': '#/definitions/document_title'},\n",
       "      'doi': {'$ref': '#/definitions/doi'},\n",
       "      'document_link': {'$ref': '#/definitions/document_link'},\n",
       "      'pubname': {'$id': '#/items/properties/xdd_documents/items/properties/pubname',\n",
       "       'type': 'string',\n",
       "       'title': 'Publication Name',\n",
       "       'description': 'The name of the journal or other publication where the result originates.',\n",
       "       'examples': ['Canadian Journal of Forest Research']},\n",
       "      'publisher': {'$id': '#/items/properties/xdd_documents/items/properties/publisher',\n",
       "       'type': 'string',\n",
       "       'title': 'Publisher',\n",
       "       'description': 'The name of the publisher of the journal or other source where the result originates.',\n",
       "       'examples': ['Canadian Science Publishing']},\n",
       "      '_gddid': {'$id': '#/items/properties/xdd_documents/items/properties/_gddid',\n",
       "       'type': 'string',\n",
       "       'title': '_gddid',\n",
       "       'description': 'An internal unique, persistent identifier for the processed document in the xDD system.',\n",
       "       'examples': ['579c2d75cf58f18c08b4f6b4']},\n",
       "      'coverDate': {'$id': '#/items/properties/xdd_documents/items/properties/coverDate',\n",
       "       'type': 'string',\n",
       "       'title': 'Cover Date',\n",
       "       'description': 'A date associated with the article, journal, report, or other document.',\n",
       "       'examples': ['December 2004']},\n",
       "      'authors': {'$id': '#/items/properties/xdd_documents/items/properties/authors',\n",
       "       'type': 'string',\n",
       "       'title': 'Authors',\n",
       "       'description': 'A delimited string of the article authors.',\n",
       "       'examples': ['Wahbe, Tanya R; Bunnell, Fred L; Bury, R Bruce']},\n",
       "      'highlight': {'$id': '#/items/properties/xdd_documents/items/properties/highlight',\n",
       "       'type': 'array',\n",
       "       'title': 'Highlights',\n",
       "       'description': 'The snippets of sentences from the processed and indexed text of the article containing the search term.',\n",
       "       'items': {'$ref': '#/definitions/items',\n",
       "        'examples': ['Canada   2466  Can. J. For. Res. Vol. 34, 2004  amander (Rhyacotriton cascadae) in the',\n",
       "         '34, 2004  amander (Rhyacotriton cascadae) in the Columbia River Gorge, Oregon. J.']}}}}}}}}"
      ]
     },
     "metadata": {},
     "output_type": "display_data"
    }
   ],
   "source": [
    "xdd_schema = helperfunctions.load_schema('xdd')\n",
    "display(xdd_schema)\n",
    "\n",
    "jsonschema.validate(xdd_results,xdd_schema)"
   ]
  },
  {
   "cell_type": "code",
   "execution_count": null,
   "metadata": {},
   "outputs": [],
   "source": []
  }
 ],
 "metadata": {
  "kernelspec": {
   "display_name": "Python 3",
   "language": "python",
   "name": "python3"
  },
  "language_info": {
   "codemirror_mode": {
    "name": "ipython",
    "version": 3
   },
   "file_extension": ".py",
   "mimetype": "text/x-python",
   "name": "python",
   "nbconvert_exporter": "python",
   "pygments_lexer": "ipython3",
   "version": "3.7.3"
  }
 },
 "nbformat": 4,
 "nbformat_minor": 2
}
