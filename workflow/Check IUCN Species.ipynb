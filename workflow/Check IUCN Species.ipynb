{
 "cells": [
  {
   "cell_type": "markdown",
   "metadata": {},
   "source": [
    "Another source of potential information on species comes from the IUCN Red List. This notebook makes use of the iucn module and a species Red List search in the bispy package that requires an API key to operate against the IUCN API. It caches discovered information on these species for convenience in use.\n",
    "\n",
    "# Data Management Considerations\n",
    "The [IUCN Red List Terms and Conditions](https://www.iucnredlist.org/terms/terms-of-use) are fairly restrictive with regard to reposting, derivative works, and attribution. The API key that must be supplied by the user running our code for access to the IUCN Red List API is obtained by agreeing to adhere to the terms of use. We are currently exploring, with the IUCN team, the best ways that we can leverage these data, comply with the terms of use, and provide value back to the whole community. "
   ]
  },
  {
   "cell_type": "code",
   "execution_count": 1,
   "metadata": {},
   "outputs": [],
   "source": [
    "import requests\n",
    "import bispy\n",
    "from IPython.display import display\n",
    "from joblib import Parallel, delayed\n",
    "from collections import Counter\n",
    "import jsonschema\n",
    "\n",
    "iucn = bispy.iucn.Iucn()\n",
    "bis_utils = bispy.bis.Utils()\n",
    "\n",
    "import helperfunctions"
   ]
  },
  {
   "cell_type": "code",
   "execution_count": 2,
   "metadata": {},
   "outputs": [],
   "source": [
    "name_list = helperfunctions.workplan_species()"
   ]
  },
  {
   "cell_type": "code",
   "execution_count": 3,
   "metadata": {
    "scrolled": true
   },
   "outputs": [
    {
     "name": "stdout",
     "output_type": "stream",
     "text": [
      "CPU times: user 1.41 s, sys: 132 ms, total: 1.54 s\n",
      "Wall time: 1min 10s\n"
     ]
    }
   ],
   "source": [
    "%%time\n",
    "# Use joblib to run multiple requests for SGCN records in parallel via scientific names\n",
    "iucn_results = Parallel(n_jobs=8)(delayed(iucn.search_species)(name, name_source) for name, name_source in name_list)\n"
   ]
  },
  {
   "cell_type": "code",
   "execution_count": 4,
   "metadata": {},
   "outputs": [
    {
     "data": {
      "text/plain": [
       "{'Doc Cache File': 'cache/iucn.json',\n",
       " 'Number of Documents in Cache': 375,\n",
       " 'Document Number 162': {'processing_metadata': {'status': 'success',\n",
       "   'date_processed': '2019-07-23T18:33:54.705227',\n",
       "   'api': 'http://apiv3.iucnredlist.org/api/v3/species/Notropis ozarcanus',\n",
       "   'status_message': 'Species Name Matched'},\n",
       "  'parameters': {'Scientific Name': 'Notropis ozarcanus',\n",
       "   'Name Source': 'Lookup Name'},\n",
       "  'iucn_species_summary': {'iucn_taxonid': 202315,\n",
       "   'iucn_status_code': 'NT',\n",
       "   'iucn_status_name': 'Near Threatened',\n",
       "   'record_date': '2012-07-30',\n",
       "   'iucn_population_trend': 'Decreasing',\n",
       "   'citation_string': 'NatureServe 2014. Notropis ozarcanus. The IUCN Red List of Threatened Species 2014: e.T202315A19034813. http://dx.doi.org/10.2305/IUCN.UK.2014-3.RLTS.T202315A19034813.en .Downloaded on 23 July 2019',\n",
       "   'iucn_secondary_identifier': '19034813',\n",
       "   'resolvable_identifier': 'https://www.iucnredlist.org/species/202315/19034813',\n",
       "   'doi': 'http://dx.doi.org/10.2305/IUCN.UK.2014-3.RLTS.T202315A19034813.en'}}}"
      ]
     },
     "metadata": {},
     "output_type": "display_data"
    }
   ],
   "source": [
    "# Cache the array of retrieved documents and return/display a random sample for verification\n",
    "display(bis_utils.doc_cache(\"../cache/iucn.json\", iucn_results))"
   ]
  },
  {
   "cell_type": "markdown",
   "metadata": {},
   "source": [
    "# Schema Validation\n",
    "We are building documentation and data validation details into JSON Schema notation in a set of companion files with each dataset. The following codeblock grabs and displays the schema for this dataset and validates the data we produced and cached to show any errors. The resuilts from running this code should show only the JSON Schema doc for reference. The validate function will only show an output if there is anything to report."
   ]
  },
  {
   "cell_type": "code",
   "execution_count": 26,
   "metadata": {},
   "outputs": [
    {
     "data": {
      "text/plain": [
       "{'definitions': {'items': {'$id': '#items',\n",
       "   'type': ['object', 'array'],\n",
       "   'title': 'Generic container for items in a dataset',\n",
       "   'description': 'A JSON array or object property containing one or more items in a dataset or data structure within a dataset.'}},\n",
       " '$schema': 'http://json-schema.org/draft-07/schema#',\n",
       " '$id': 'http://data.usgs.gov/property_registry/',\n",
       " 'type': ['object', 'array'],\n",
       " 'title': 'Dataset of species summary records from the IUCN Red List',\n",
       " 'description': 'A dataset containing summary records pulled from querying the IUCN Red List API. Items can indicate a negative search result. Contains a mix of higher level standard properties and custom properties. Data were assembled using a search function build into the experimental bispy software package (https://github.com/usgs-bcb/bispy).',\n",
       " 'default': None,\n",
       " 'items': {'$ref': '#/definitions/items',\n",
       "  'properties': {'processing_metadata': {'$ref': 'common_properties.json#/definitions/processing_metadata'},\n",
       "   'parameters': {'$ref': 'common_properties.json#/definitions/parameters',\n",
       "    'properties': {'Scientific Name': {'$ref': 'common_properties.json#/definitions/Scientific Name'},\n",
       "     'Name Source': {'$id': '#Name Source',\n",
       "      'type': 'string',\n",
       "      'title': 'Source of a name used as a parameter',\n",
       "      'description': 'A string denoting the source for the scientific name used in the IUCN Red List search. Useful for determining the provenance of the name used.',\n",
       "      'examples': ['Lookup Name', 'Valid ITIS Scientific Name']}}},\n",
       "   'iucn_species_summary': {'$id': '#iucn_species_summary',\n",
       "    'type': 'object',\n",
       "    'title': 'IUCN Red List Species Summary Container',\n",
       "    'description': 'This container houses the summarized results for an IUCN Red List species when the species was found. Otherwise, it will be empty or not present.',\n",
       "    'default': None,\n",
       "    'required': ['iucn_taxonid',\n",
       "     'iucn_status_code',\n",
       "     'iucn_status_name',\n",
       "     'record_date',\n",
       "     'iucn_secondary_identifier',\n",
       "     'resolvable_identifier',\n",
       "     'citation_string'],\n",
       "    'properties': {'record_date': {'$ref': 'common_properties.json#/definitions/record_date'},\n",
       "     'citation_string': {'$ref': 'common_properties.json#/definitions/citation_string'},\n",
       "     'resolvable_identifier': {'$ref': 'common_properties.json#/definitions/resolvable_identifier'},\n",
       "     'doi': {'$ref': 'common_properties.json#/definitions/doi'},\n",
       "     'iucn_taxonid': {'$id': '#iucn_taxonid',\n",
       "      'type': 'integer',\n",
       "      'title': 'The numeric IUCN taxon ID',\n",
       "      'description': 'The internal taxon identifier used in the IUCN Red List system. Used together with a secondary identifier to create a resolvable reference and as a key identifier through the IUCN Red List API.',\n",
       "      'default': 0,\n",
       "      'examples': [59435]},\n",
       "     'iucn_status_code': {'$id': '#iucn_status_code',\n",
       "      'type': 'string',\n",
       "      'title': 'The IUCN Conservation Status Code',\n",
       "      'description': 'The conservation status code for a species (ref: https://www.iucnredlist.org/resources/categories-and-criteria)',\n",
       "      'examples': ['NT']},\n",
       "     'iucn_status_name': {'$id': '#iucn_status_name',\n",
       "      'type': 'string',\n",
       "      'title': 'IUCN Status Name',\n",
       "      'description': 'The full name of the IUCN Red List Status (ref: https://www.iucnredlist.org/resources/categories-and-criteria).',\n",
       "      'examples': ['Near Threatened']},\n",
       "     'iucn_population_trend': {'$id': '#iucn_population_trend',\n",
       "      'type': ['string', 'null'],\n",
       "      'title': 'IUCN Red List Population Trend',\n",
       "      'description': 'A categorical string indicating the overall trend for the population of a species.',\n",
       "      'examples': ['Decreasing']},\n",
       "     'iucn_secondary_identifier': {'$id': '#iucn_secondary_identifier',\n",
       "      'type': 'string',\n",
       "      'title': 'A secondary identifier for a species record in the IUCN Red List',\n",
       "      'description': 'Secondary identifier extracted from a species citation string and used to generate a resolvable identifier.',\n",
       "      'examples': ['11941314']}}}}}}"
      ]
     },
     "metadata": {},
     "output_type": "display_data"
    }
   ],
   "source": [
    "iucn_schema = helperfunctions.load_schema('iucn')\n",
    "display(iucn_schema)\n",
    "\n",
    "jsonschema.validate(iucn_results, iucn_schema)"
   ]
  },
  {
   "cell_type": "markdown",
   "metadata": {},
   "source": [
    "# Result Summary\n",
    "Perhaps the most interesting current use of the IUCN data is in the area of examining the IUCN Red List categories. The following code blocks report on the number of work plan species found and not found in the IUCN Red List, a listing of the numbers of species in each IUCN Red List category, and a report on where the names came from (original names vs ITIS names)."
   ]
  },
  {
   "cell_type": "code",
   "execution_count": 5,
   "metadata": {},
   "outputs": [
    {
     "data": {
      "text/plain": [
       "Counter({'success': 186, 'failure': 189})"
      ]
     },
     "execution_count": 5,
     "metadata": {},
     "output_type": "execute_result"
    }
   ],
   "source": [
    "# \"success\" means we found the species in the IUCN Red List and \"failure\" means we did not\n",
    "Counter(spp[\"processing_metadata\"][\"status\"] for spp in iucn_results)"
   ]
  },
  {
   "cell_type": "code",
   "execution_count": 6,
   "metadata": {},
   "outputs": [],
   "source": [
    "iucn_results_success = [r for r in iucn_results if r[\"processing_metadata\"][\"status\"] == \"success\"]"
   ]
  },
  {
   "cell_type": "code",
   "execution_count": 7,
   "metadata": {},
   "outputs": [
    {
     "data": {
      "text/plain": [
       "Counter({'Near Threatened': 37,\n",
       "         'Vulnerable': 58,\n",
       "         'Least Concern': 17,\n",
       "         'Critically Endangered': 7,\n",
       "         'Data Deficient': 27,\n",
       "         'Endangered': 31,\n",
       "         'Near Threatened (in review)': 9})"
      ]
     },
     "execution_count": 7,
     "metadata": {},
     "output_type": "execute_result"
    }
   ],
   "source": [
    "Counter(spp[\"iucn_species_summary\"][\"iucn_status_name\"] for spp in iucn_results_success)"
   ]
  },
  {
   "cell_type": "code",
   "execution_count": 9,
   "metadata": {},
   "outputs": [
    {
     "data": {
      "text/plain": [
       "Counter({'Lookup Name': 182, 'Valid ITIS Scientific Name': 4})"
      ]
     },
     "execution_count": 9,
     "metadata": {},
     "output_type": "execute_result"
    }
   ],
   "source": [
    "Counter(spp[\"parameters\"][\"Name Source\"] for spp in iucn_results_success)"
   ]
  },
  {
   "cell_type": "code",
   "execution_count": null,
   "metadata": {},
   "outputs": [],
   "source": []
  }
 ],
 "metadata": {
  "kernelspec": {
   "display_name": "Python 3",
   "language": "python",
   "name": "python3"
  },
  "language_info": {
   "codemirror_mode": {
    "name": "ipython",
    "version": 3
   },
   "file_extension": ".py",
   "mimetype": "text/x-python",
   "name": "python",
   "nbconvert_exporter": "python",
   "pygments_lexer": "ipython3",
   "version": "3.7.3"
  }
 },
 "nbformat": 4,
 "nbformat_minor": 2
}
