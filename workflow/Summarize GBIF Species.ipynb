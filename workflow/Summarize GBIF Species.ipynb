{
 "cells": [
  {
   "cell_type": "markdown",
   "metadata": {},
   "source": [
    "It is often useful to gain a basic understanding of what species observation records may exist for potential use in modeling and analysis. The Global Biodiversity Information Facility (GBIF) is one source of observation data with a robust API that lends itself to a process for relatively rapid summarization in this context of building out a species information catalog. This notebook exercises an experimental function that ties together a couple aspects of the GBIF API to make a reasonable guess at a species identifier (from the GBIF taxonomic hub) and pull back a basic characterization of US-based occurrences. The three facets of the occurrence records that we can reasonably assemble quickly at this time include the following:\n",
    "\n",
    "* basisOfRecord - The Darwin Core term that describes what the basis is for the species occurrence, mostly helping to distinguish between museum specimens (which may or may not have accurate spatial information for where the specimen was collected in the field) and human observations (or other methods of observing) a species.\n",
    "* year - Provides a basic time series by year for the number of occurrences.\n",
    "* institutionCode - Somewhat obscure set of codes/terms for the institution providing the record. Further details exist behind this, but the codes can help provide a basic idea on where the records come from."
   ]
  },
  {
   "cell_type": "code",
   "execution_count": 1,
   "metadata": {},
   "outputs": [],
   "source": [
    "import requests\n",
    "import bispy\n",
    "from IPython.display import display\n",
    "from joblib import Parallel, delayed\n",
    "import jsonschema\n",
    "\n",
    "gbif = bispy.gbif.Gbif()\n",
    "bis_utils = bispy.bis.Utils()\n",
    "\n",
    "import helperfunctions"
   ]
  },
  {
   "cell_type": "code",
   "execution_count": 2,
   "metadata": {},
   "outputs": [],
   "source": [
    "name_list = helperfunctions.workplan_species()"
   ]
  },
  {
   "cell_type": "code",
   "execution_count": 3,
   "metadata": {},
   "outputs": [
    {
     "name": "stdout",
     "output_type": "stream",
     "text": [
      "CPU times: user 1.04 s, sys: 111 ms, total: 1.15 s\n",
      "Wall time: 2min 37s\n"
     ]
    }
   ],
   "source": [
    "%%time\n",
    "# Use joblib to run multiple requests for records in parallel via scientific names\n",
    "gbif_results = Parallel(n_jobs=8)(delayed(gbif.summarize_us_species)(name, name_source) for name, name_source in name_list)\n"
   ]
  },
  {
   "cell_type": "code",
   "execution_count": 4,
   "metadata": {},
   "outputs": [
    {
     "data": {
      "text/plain": [
       "{'Doc Cache File': 'cache/gbif.json',\n",
       " 'Number of Documents in Cache': 387,\n",
       " 'Document Number 17': {'processing_metadata': {'status': 'success',\n",
       "   'date_processed': '2019-07-26T17:14:32.429038',\n",
       "   'status_message': 'Matched',\n",
       "   'api': ['https://api.gbif.org/v1/species/suggest?q=Deroceras hesperium',\n",
       "    'https://api.gbif.org/v1/occurrence/search?country=US&limit=0&facet=institutionCode&facet=year&facet=basisOfRecord&scientificName=Deroceras hesperium']},\n",
       "  'parameters': {'Scientific Name': 'Deroceras hesperium',\n",
       "   'Name Source': 'Lookup Name'},\n",
       "  'gbif_species': {'key': 5190779,\n",
       "   'resolvable_identifier': 'http://api.gbif.org/v1/species/5190779',\n",
       "   'biological_taxonomy': [{'rank': 'kingdom', 'name': 'Animalia'},\n",
       "    {'rank': 'phylum', 'name': 'Mollusca'},\n",
       "    {'rank': 'class', 'name': 'Gastropoda'},\n",
       "    {'rank': 'order', 'name': 'Stylommatophora'},\n",
       "    {'rank': 'family', 'name': 'Agriolimacidae'},\n",
       "    {'rank': 'genus', 'name': 'Deroceras'},\n",
       "    {'rank': 'species', 'name': 'Deroceras hesperium'}],\n",
       "   'Scientific Name': 'Deroceras hesperium',\n",
       "   'name_with_source': 'Deroceras hesperium Pilsbry, 1944',\n",
       "   'rank': 'SPECIES',\n",
       "   'TaxonomicStatus': 'ACCEPTED',\n",
       "   'synonym': False,\n",
       "   'Occurrence Summary': {'count': 46,\n",
       "    'facets': [{'field': 'INSTITUTION_CODE',\n",
       "      'counts': [{'name': 'ntsrv', 'count': 44},\n",
       "       {'name': 'ansp', 'count': 1},\n",
       "       {'name': 'uf', 'count': 1}]},\n",
       "     {'field': 'YEAR',\n",
       "      'counts': [{'name': '2005', 'count': 21},\n",
       "       {'name': '1999', 'count': 7},\n",
       "       {'name': '1998', 'count': 5},\n",
       "       {'name': '2006', 'count': 4},\n",
       "       {'name': '1997', 'count': 2},\n",
       "       {'name': '2010', 'count': 2},\n",
       "       {'name': '1995', 'count': 1},\n",
       "       {'name': '2003', 'count': 1},\n",
       "       {'name': '2009', 'count': 1},\n",
       "       {'name': '2011', 'count': 1}]},\n",
       "     {'field': 'BASIS_OF_RECORD',\n",
       "      'counts': [{'name': 'HUMAN_OBSERVATION', 'count': 44},\n",
       "       {'name': 'PRESERVED_SPECIMEN', 'count': 2}]}]}}}}"
      ]
     },
     "metadata": {},
     "output_type": "display_data"
    }
   ],
   "source": [
    "# Cache the array of retrieved documents and return/display a random sample for verification\n",
    "display(bis_utils.doc_cache(\"../cache/gbif.json\", gbif_results))"
   ]
  },
  {
   "cell_type": "markdown",
   "metadata": {},
   "source": [
    "# Schema Validation\n",
    "Working through the schema documentation for the GBIF cases pointed out an area where the processing metadata record needs to be able to record more than one API end point used in a given record assembly process. For now, I expanded the schema for processing_metadata/api to allow for an array, but we may need to revisit this at some point to include a more sophisticated structure. Ultimately, the answer is probably in encoding an actual W3C Provenance trace for every record, but that will require us to grapple fully with that standard and figure out how to build it into our workflows."
   ]
  },
  {
   "cell_type": "code",
   "execution_count": 6,
   "metadata": {},
   "outputs": [
    {
     "data": {
      "text/plain": [
       "{'definitions': {'items': {'$id': '#items',\n",
       "   'type': ['object', 'array'],\n",
       "   'title': 'Generic container for items in a dataset',\n",
       "   'description': 'A JSON array or object property containing one or more items in a dataset or data structure within a dataset.'}},\n",
       " '$schema': 'http://json-schema.org/draft-07/schema#',\n",
       " '$id': 'http://data.usgs.gov/property_registry/',\n",
       " 'type': 'array',\n",
       " 'title': 'GBIF Species Summary Collection',\n",
       " 'description': 'A dataset containing records that summarize species found by name in the Global Biodiversity Information Facility (GBIF). Records contain sufficient details to further explore the species in GBIF and a summary of available occurrence data at a point in time.',\n",
       " 'items': {'$ref': '#/definitions/items',\n",
       "  'properties': {'processing_metadata': {'$ref': 'common_properties.json#/definitions/processing_metadata'},\n",
       "   'parameters': {'$ref': 'common_properties.json#/definitions/parameters',\n",
       "    'required': ['Scientific Name', 'Name Source'],\n",
       "    'properties': {'Scientific Name': {'$ref': 'common_properties.json#/definitions/Scientific Name'},\n",
       "     'Name Source': {'$id': '#/items/properties/parameters/properties/Name Source',\n",
       "      'type': 'string',\n",
       "      'enum': ['Lookup Name'],\n",
       "      'title': 'Name Source',\n",
       "      'description': 'A label for the source of scientific name used in the query.',\n",
       "      'examples': ['Lookup Name']}}},\n",
       "   'gbif_species': {'$id': '#/items/properties/gbif_species',\n",
       "    'type': 'object',\n",
       "    'title': 'GBIF Species Summary',\n",
       "    'description': 'Data structure derived from the GBIF species and occurrence APIs to summarize GBIF taxonomy and occurrences and provide a reference to further explore GBIF data.',\n",
       "    'required': ['key',\n",
       "     'resolvable_identifier',\n",
       "     'biological_taxonomy',\n",
       "     'scientific_name',\n",
       "     'name_with_source',\n",
       "     'rank',\n",
       "     'status',\n",
       "     'synonym',\n",
       "     'Occurrence Summary'],\n",
       "    'properties': {'key': {'$id': '#/items/properties/gbif_species/properties/key',\n",
       "      'type': 'integer',\n",
       "      'title': 'Key',\n",
       "      'description': 'The GBIF unique, persistent identifier for the discovered scientific name record.',\n",
       "      'examples': [2431178]},\n",
       "     'resolvable_identifier': {'$ref': 'common_properties.json#/definitions/resolvable_identifier'},\n",
       "     'biological_taxonomy': {'$ref': 'common_properties.json#/definitions/biological_taxonomy'},\n",
       "     'Scientific Name': {'$ref': 'common_properties.json#/definitions/Scientific Name'},\n",
       "     'name_with_source': {'$id': '#/items/properties/gbif_species/properties/name_with_source',\n",
       "      'type': 'string',\n",
       "      'title': 'Name with Source',\n",
       "      'description': 'The GBIF scientificName field renamed to indicate its structure and use within this context as the name with a taxonomic source.',\n",
       "      'examples': ['Rhyacotriton cascadae Good & Wake, 1992']},\n",
       "     'rank': {'$id': '#/items/properties/gbif_species/properties/rank',\n",
       "      'type': 'string',\n",
       "      'title': 'Taxonomic Rank',\n",
       "      'description': 'The taxonomic rank of the discovered scientific name. Full GBIF enumeration can be found here - http://api.gbif.org/v1/enumeration/basic/Rank.',\n",
       "      'examples': ['SPECIES']},\n",
       "     'TaxonomicStatus': {'$id': '#/items/properties/gbif_species/properties/status',\n",
       "      'type': 'string',\n",
       "      'title': 'Taxonomic Status',\n",
       "      'description': 'The status of the name according to scientific authorities. Full GBIF enumeration can be found here - http://api.gbif.org/v1/enumeration/basic/TaxonomicStatus',\n",
       "      'examples': ['ACCEPTED']},\n",
       "     'synonym': {'$id': '#/items/properties/gbif_species/properties/synonym',\n",
       "      'type': 'boolean',\n",
       "      'title': 'Synonym',\n",
       "      'description': 'Indicates whether or not the discovered scientific name is considered to be a synonym from taxonomic authorities.'},\n",
       "     'Occurrence Summary': {'$id': '#/items/properties/gbif_species/properties/Occurrence Summary',\n",
       "      'type': 'object',\n",
       "      'title': 'Occurrence Summary',\n",
       "      'description': 'A summary of key facets for GBIF occurrence data used to provide a snapshot of data available for analysis and use.',\n",
       "      'required': ['count', 'facets'],\n",
       "      'properties': {'count': {'$id': '#/items/properties/gbif_species/properties/Occurrence Summary/properties/count',\n",
       "        'type': 'integer',\n",
       "        'title': 'Count',\n",
       "        'description': 'Total number of occurrence records for the discovered scientific name.'},\n",
       "       'facets': {'$id': '#/items/properties/gbif_species/properties/Occurrence Summary/properties/facets',\n",
       "        'type': 'array',\n",
       "        'title': 'Facets',\n",
       "        'description': 'Array of count summaries by available properties returned using GBIF search faceting capability.',\n",
       "        'items': {'$ref': '#/definitions/items',\n",
       "         'properties': {'field': {'$id': '#/items/properties/gbif_species/properties/Occurrence Summary/properties/facets/items/properties/field',\n",
       "           'type': 'string',\n",
       "           'title': 'Field',\n",
       "           'description': 'The field/property from the GBIF occurrence schema for which counts of unique values are included. Options include INSTITUTION_CODE (short name or acronym of the provider institutions), YEAR (time series by year of total occurrences), and BASIS_OF_RECORD (type of record from which the species occurrence was determined).',\n",
       "           'enum': ['INSTITUTION_CODE', 'YEAR', 'BASIS_OF_RECORD']},\n",
       "          'counts': {'$id': '#/items/properties/gbif_species/properties/Occurrence Summary/properties/facets/items/properties/counts',\n",
       "           'type': 'array',\n",
       "           'title': 'Counts',\n",
       "           'description': 'Array of counts per value of a property.',\n",
       "           'items': {'$ref': '#/definitions/items',\n",
       "            'properties': {'name': {'$id': '#/items/properties/gbif_species/properties/Occurrence Summary/properties/facets/items/properties/counts/items/properties/name',\n",
       "              'type': 'string',\n",
       "              'title': 'Property Value',\n",
       "              'description': 'Value of the property associated with record count.'},\n",
       "             'count': {'$id': '#/items/properties/gbif_species/properties/Occurrence Summary/properties/facets/items/properties/counts/items/properties/count',\n",
       "              'type': 'integer',\n",
       "              'title': 'Count',\n",
       "              'description': 'Count of records associated with the property value.'}}}}}}}}}}}}}}"
      ]
     },
     "metadata": {},
     "output_type": "display_data"
    }
   ],
   "source": [
    "gbif_schema = helperfunctions.load_schema('gbif')\n",
    "display(gbif_schema)\n",
    "\n",
    "jsonschema.validate(gbif_results, gbif_schema)"
   ]
  },
  {
   "cell_type": "code",
   "execution_count": null,
   "metadata": {},
   "outputs": [],
   "source": []
  }
 ],
 "metadata": {
  "kernelspec": {
   "display_name": "Python 3",
   "language": "python",
   "name": "python3"
  },
  "language_info": {
   "codemirror_mode": {
    "name": "ipython",
    "version": 3
   },
   "file_extension": ".py",
   "mimetype": "text/x-python",
   "name": "python",
   "nbconvert_exporter": "python",
   "pygments_lexer": "ipython3",
   "version": "3.7.3"
  }
 },
 "nbformat": 4,
 "nbformat_minor": 2
}
