{
 "cells": [
  {
   "cell_type": "markdown",
   "metadata": {},
   "source": [
    "As an additional exploration with the species identified as having GAP habitat maps available, this notebook explores adding a view of GAP habitat metrics to the cache of information. This may be useful in determining where else species may have range within states. The process uses the 2018 US State boundaries from Census, the GAP range bounding box (generated previously in the basic caching of GAP species data from the GAP range services), and a set of pre-calculated GAP metrics that include acres within specific protection status designations in each state. It first finds a basic intersection of the range bounding box with a set of states, retrieves the total state metrics for all GAP species, and then filters to an individual species (no current query criteria for this at the API). This information is then cached for further reference."
   ]
  },
  {
   "cell_type": "code",
   "execution_count": 9,
   "metadata": {},
   "outputs": [],
   "source": [
    "import geopandas as gpd\n",
    "import json\n",
    "import requests\n",
    "from IPython.display import display\n",
    "import bispy\n",
    "from joblib import Parallel, delayed\n",
    "import jsonschema\n",
    "\n",
    "gap = bispy.gap.Gap()\n",
    "bis_utils = bispy.bis.Utils()\n",
    "\n",
    "import helperfunctions"
   ]
  },
  {
   "cell_type": "code",
   "execution_count": 2,
   "metadata": {},
   "outputs": [],
   "source": [
    "us_states = gpd.read_file(\"https://www2.census.gov/geo/tiger/TIGER2018/STATE/tl_2018_us_state.zip\")"
   ]
  },
  {
   "cell_type": "code",
   "execution_count": 3,
   "metadata": {},
   "outputs": [],
   "source": [
    "# Open the file back up and verify\n",
    "with open(\"../cache/gap.json\", \"r\") as f:\n",
    "    gap_cache = json.loads(f.read())\n",
    "    f.close()"
   ]
  },
  {
   "cell_type": "code",
   "execution_count": 4,
   "metadata": {},
   "outputs": [],
   "source": [
    "# Tease out the unique GAP species that we were able to find in the entire set of searched names\n",
    "gap_species = list(map(json.loads,set(map(json.dumps, [r for r in gap_cache if \"GAP Species\" in r.keys()]))))"
   ]
  },
  {
   "cell_type": "code",
   "execution_count": 5,
   "metadata": {},
   "outputs": [
    {
     "name": "stdout",
     "output_type": "stream",
     "text": [
      "CPU times: user 3.87 s, sys: 1.65 s, total: 5.52 s\n",
      "Wall time: 2min 31s\n"
     ]
    }
   ],
   "source": [
    "%%time\n",
    "# Use joblib to run multiple requests for SGCN records in parallel via scientific names\n",
    "gap_metrics = Parallel(n_jobs=8)(delayed(gap.gap_metrics_species)(us_states, spp[\"GAP Species\"][\"GAP_SpeciesCode\"], spp[\"GAP Species\"][\"Range Bounding Box\"]) for spp in gap_species)\n"
   ]
  },
  {
   "cell_type": "code",
   "execution_count": 11,
   "metadata": {},
   "outputs": [
    {
     "data": {
      "text/plain": [
       "'[{\"GAP_SpeciesCode\": \"rRRCSx\", \"State Metrics\": [{\"state_fipscode\": \"12\", \"state_name\": \"Florida\", \"taxa\": \"R\", \"sppcode\": \"rRRCSx\", \"spp_comname\": \"Rim Rock Crowned Snake\", \"spp_sciname\": \"Tantilla oolitica\", \"gapstat1ac\": 22639.3502175342, \"gapstat2ac\": 16029.5530917033, \"gapstat3ac\": 86915.4629228064, \"gapstat4ac\": 123776.9633437956, \"gapstat12ac\": 38668.9033092375, \"gapstat123ac\": 125584.3662320439, \"totalac\": 249361.3295758395, \"gapstat1perc\": 9.07893387320458, \"gapstat2perc\": 6.42824335231504, \"gapstat3perc\": 34.8552291851541, \"gapstat4perc\": 49.6375935893262, \"gapstat12perc\": 15.5071772255196, \"gapstat123perc\": 50.3624064106738, \"gapstat12group\": \"10-17\", \"gapstat123group\": \">50\", \"id\": 6180}]}, {\"GAP_SpeciesCode\": \"aNRWAx\", \"State Metrics\": [{\"state_fipscode\": \"37\", \"state_name\": \"North Carolina\", \"taxa\": \"A\", \"sppcode\": \"aNRWAx\", \"spp_comname\": \"Neuse River Waterdog\", \"spp_sciname\": \"Necturus lewisi\", \"gapstat1ac\": 17.1244029033, \"gapstat2ac\": 1105.302369213, \"gapstat3ac\": 7172.0112886821, \"gapstat4ac\": 157909.234252716, \"gapstat12ac\": 1122.4267721163, \"gapstat123ac\": 8294.4380607984, \"totalac\": 166203.6723135144, \"gapstat1perc\": 0.010303263859897, \"gapstat2perc\": 0.665028849138808, \"gapstat3perc\": 4.31519423659505, \"gapstat4perc\": 95.0094736504062, \"gapstat12perc\": 0.675332112998705, \"gapstat123perc\": 4.99052634959376, \"gapstat12group\": \"<1\", \"gapstat123group\": \"1-10\", \"id\": 15722}, {\"state_fipscode\": \"51\", \"state_name\": \"Virginia\", \"taxa\": \"A\", \"sppcode\": \"aNRWAx\", \"spp_comname\": \"Neuse River Waterdog\", \"spp_sciname\": \"Necturus lewisi\", \"gapstat1ac\": 0.0, \"gapstat2ac\": 0.0, \"gapstat3ac\": 33.5816212779, \"gapstat4ac\": 12.0093215166, \"gapstat12ac\": 0.0, \"gapstat123ac\": 33.5816212779, \"totalac\": 45.5909427945, \"gapstat1perc\": 0.0, \"gapstat2perc\": 0.0, \"gapstat3perc\": 73.6585365853659, \"gapstat4perc\": 26.3414634146341, \"gapstat12perc\": 0.0, \"gapstat123perc\": 73.6585365853659, \"gapstat12group\": \"<1\", \"gapstat123group\": \">50\", \"id\": 21782}]}]'"
      ]
     },
     "execution_count": 11,
     "metadata": {},
     "output_type": "execute_result"
    }
   ],
   "source": [
    "json.dumps(gap_metrics[:2])"
   ]
  },
  {
   "cell_type": "code",
   "execution_count": 7,
   "metadata": {},
   "outputs": [
    {
     "data": {
      "text/plain": [
       "{'Doc Cache File': 'cache/gap_metrics.json',\n",
       " 'Number of Documents in Cache': 63,\n",
       " 'Document Number 47': {'GAP_SpeciesCode': 'aSMSAx',\n",
       "  'State Metrics': [{'state_fipscode': '48',\n",
       "    'state_name': 'Texas',\n",
       "    'taxa': 'A',\n",
       "    'sppcode': 'aSMSAx',\n",
       "    'spp_comname': 'San Marcos Salamander',\n",
       "    'spp_sciname': 'Eurycea nana',\n",
       "    'gapstat1ac': 0.0,\n",
       "    'gapstat2ac': 142.1103046131,\n",
       "    'gapstat3ac': 344.712006495,\n",
       "    'gapstat4ac': 14308.2170076573,\n",
       "    'gapstat12ac': 142.1103046131,\n",
       "    'gapstat123ac': 486.8223111081,\n",
       "    'totalac': 14795.0393187654,\n",
       "    'gapstat1perc': 0.0,\n",
       "    'gapstat2perc': 0.960526711360972,\n",
       "    'gapstat3perc': 2.32991612301957,\n",
       "    'gapstat4perc': 96.7095571656195,\n",
       "    'gapstat12perc': 0.960526711360972,\n",
       "    'gapstat123perc': 3.29044283438054,\n",
       "    'gapstat12group': '<1',\n",
       "    'gapstat123group': '1-10',\n",
       "    'id': 20161}]}}"
      ]
     },
     "metadata": {},
     "output_type": "display_data"
    }
   ],
   "source": [
    "# Cache the array of retrieved documents and return/display a random sample for verification\n",
    "display(bis_utils.doc_cache(\"../cache/gap_metrics.json\", gap_metrics))"
   ]
  },
  {
   "cell_type": "markdown",
   "metadata": {},
   "source": [
    "# Schema Validation"
   ]
  },
  {
   "cell_type": "code",
   "execution_count": 12,
   "metadata": {},
   "outputs": [
    {
     "data": {
      "text/plain": [
       "{'definitions': {'items': {'$id': '#items',\n",
       "   'type': ['object', 'array'],\n",
       "   'title': 'Generic container for items in a dataset',\n",
       "   'description': 'A JSON array or object property containing one or more items in a dataset or data structure within a dataset.'}},\n",
       " '$schema': 'http://json-schema.org/draft-07/schema#',\n",
       " '$id': 'http://data.usgs.gov/property_registry/',\n",
       " 'type': 'array',\n",
       " 'title': 'Cache of GAP Metrics for US States',\n",
       " 'description': 'This dataset contains a set of pre-calculated protection status metrics pulled from an API for a collection of GAP species. Metrics are for US states, showing the calculated acres and percentage land cover with from the 3-meter GAP species habitat maps.',\n",
       " 'required': ['GAP_SpeciesCode', 'State Metrics'],\n",
       " 'properties': {'GAP_SpeciesCode': {'$id': '#/properties/GAP_SpeciesCode',\n",
       "   'type': 'string',\n",
       "   'title': 'GAP Species Code',\n",
       "   'description': 'The unique, persistent identifier for a GAP species.',\n",
       "   'examples': ['aNRWAx']},\n",
       "  'State Metrics': {'$id': '#/properties/State Metrics',\n",
       "   'type': 'array',\n",
       "   'title': 'State Metrics',\n",
       "   'description': 'The calculated GAP protection status metrics by state.',\n",
       "   'items': {'$ref': '#/definitions/items',\n",
       "    'required': ['state_fipscode',\n",
       "     'state_name',\n",
       "     'taxa',\n",
       "     'sppcode',\n",
       "     'spp_comname',\n",
       "     'spp_sciname',\n",
       "     'gapstat1ac',\n",
       "     'gapstat2ac',\n",
       "     'gapstat3ac',\n",
       "     'gapstat4ac',\n",
       "     'gapstat12ac',\n",
       "     'gapstat123ac',\n",
       "     'totalac',\n",
       "     'gapstat1perc',\n",
       "     'gapstat2perc',\n",
       "     'gapstat3perc',\n",
       "     'gapstat4perc',\n",
       "     'gapstat12perc',\n",
       "     'gapstat123perc',\n",
       "     'gapstat12group',\n",
       "     'gapstat123group',\n",
       "     'id'],\n",
       "    'properties': {'state_fipscode': {'$id': '#/properties/State Metrics/items/properties/state_fipscode',\n",
       "      'type': 'string',\n",
       "      'title': 'State FIPS Code',\n",
       "      'description': 'The two-digit state FIPS code.',\n",
       "      'examples': ['37']},\n",
       "     'state_name': {'$id': '#/properties/State Metrics/items/properties/state_name',\n",
       "      'type': 'string',\n",
       "      'title': 'State Name',\n",
       "      'description': 'Full name of the US State.',\n",
       "      'examples': ['North Carolina']},\n",
       "     'taxa': {'$id': '#/properties/State Metrics/items/properties/taxa',\n",
       "      'type': 'string',\n",
       "      'enum': ['A', 'B', 'M', 'R'],\n",
       "      'title': 'Taxa Abbreviation',\n",
       "      'description': 'A single character abbreviation for the broad taxa group of the species used for grouping purposes A=amphibians, B=birds, M=mammals, R=reptiles).'},\n",
       "     'sppcode': {'$id': '#/properties/State Metrics/items/properties/sppcode',\n",
       "      'type': 'string',\n",
       "      'title': 'sppcode',\n",
       "      'description': 'The unique, persistent identifier for a GAP species.',\n",
       "      'examples': ['aNRWAx']},\n",
       "     'spp_comname': {'$ref': 'common_properties.json#/definitions/Common Name'},\n",
       "     'spp_sciname': {'$ref': 'common_properties.json#/definitions/Scientific Name'},\n",
       "     'gapstat1ac': {'$id': '#/properties/State Metrics/items/properties/gapstat1ac',\n",
       "      'type': 'number',\n",
       "      'title': 'The Gapstat1ac Schema',\n",
       "      'description': 'The total number of habitat acres in GAP status 1 lands calculated from 30 meter pixels.',\n",
       "      'examples': [17.1244029033]},\n",
       "     'gapstat2ac': {'$id': '#/properties/State Metrics/items/properties/gapstat2ac',\n",
       "      'type': 'number',\n",
       "      'title': 'The Gapstat2ac Schema',\n",
       "      'description': 'The total number of habitat acres in GAP status 2 lands calculated from 30 meter pixels.',\n",
       "      'examples': [1105.302369213]},\n",
       "     'gapstat3ac': {'$id': '#/properties/State Metrics/items/properties/gapstat3ac',\n",
       "      'type': 'number',\n",
       "      'title': 'The Gapstat3ac Schema',\n",
       "      'description': 'The total number of habitat acres in GAP status 3 lands calculated from 30 meter pixels.',\n",
       "      'examples': [7172.0112886821]},\n",
       "     'gapstat4ac': {'$id': '#/properties/State Metrics/items/properties/gapstat4ac',\n",
       "      'type': 'number',\n",
       "      'title': 'The Gapstat4ac Schema',\n",
       "      'description': 'The total number of habitat acres in GAP status 4 lands calculated from 30 meter pixels.',\n",
       "      'examples': [157909.234252716]},\n",
       "     'gapstat12ac': {'$id': '#/properties/State Metrics/items/properties/gapstat12ac',\n",
       "      'type': 'number',\n",
       "      'title': 'The Gapstat12ac Schema',\n",
       "      'description': 'The total number of habitat acres in GAP status 1 and 2 (combined) lands calculated from 30 meter pixels.',\n",
       "      'examples': [1122.4267721163]},\n",
       "     'gapstat123ac': {'$id': '#/properties/State Metrics/items/properties/gapstat123ac',\n",
       "      'type': 'number',\n",
       "      'title': 'The Gapstat123ac Schema',\n",
       "      'description': 'The total number of habitat acres in GAP status 1, 2 and 3 (combined) lands calculated from 30 meter pixels.',\n",
       "      'examples': [8294.4380607984]},\n",
       "     'totalac': {'$id': '#/properties/State Metrics/items/properties/totalac',\n",
       "      'type': 'number',\n",
       "      'title': 'The Totalac Schema',\n",
       "      'description': 'The total number of habitat acres in any protection status category for the species habitat in the state calculated from 30 meter pixels.',\n",
       "      'examples': [166203.6723135144]},\n",
       "     'gapstat1perc': {'$id': '#/properties/State Metrics/items/properties/gapstat1perc',\n",
       "      'type': 'number',\n",
       "      'title': 'The Gapstat1perc Schema',\n",
       "      'description': 'The percentage of habitat in GAP status 1 lands within the state.',\n",
       "      'examples': [0.010303263859897]},\n",
       "     'gapstat2perc': {'$id': '#/properties/State Metrics/items/properties/gapstat2perc',\n",
       "      'type': 'number',\n",
       "      'title': 'The Gapstat2perc Schema',\n",
       "      'description': 'The percentage of habitat in GAP status 2 lands within the state.',\n",
       "      'examples': [0.665028849138808]},\n",
       "     'gapstat3perc': {'$id': '#/properties/State Metrics/items/properties/gapstat3perc',\n",
       "      'type': 'number',\n",
       "      'title': 'The Gapstat3perc Schema',\n",
       "      'description': 'The percentage of habitat in GAP status 3 lands within the state.',\n",
       "      'examples': [4.31519423659505]},\n",
       "     'gapstat4perc': {'$id': '#/properties/State Metrics/items/properties/gapstat4perc',\n",
       "      'type': 'number',\n",
       "      'title': 'The Gapstat4perc Schema',\n",
       "      'description': 'The percentage of habitat in GAP status 4 lands within the state.',\n",
       "      'examples': [95.0094736504062]},\n",
       "     'gapstat12perc': {'$id': '#/properties/State Metrics/items/properties/gapstat12perc',\n",
       "      'type': 'number',\n",
       "      'title': 'The Gapstat12perc Schema',\n",
       "      'description': 'The percentage of habitat in GAP status 1 and 2 (combined) lands within the state.',\n",
       "      'examples': [0.675332112998705]},\n",
       "     'gapstat123perc': {'$id': '#/properties/State Metrics/items/properties/gapstat123perc',\n",
       "      'type': 'number',\n",
       "      'title': 'The Gapstat123perc Schema',\n",
       "      'description': 'The percentage of habitat in GAP status 1, 2 and 3 (combined) lands within the state.',\n",
       "      'examples': [4.99052634959376]},\n",
       "     'gapstat12group': {'$id': '#/properties/State Metrics/items/properties/gapstat12group',\n",
       "      'type': 'string',\n",
       "      'title': 'The Gapstat12group Schema',\n",
       "      'description': 'A basic indication of the relative amount of habitat in GAP status 1 and 2 lands for the species within the state.',\n",
       "      'examples': ['<1']},\n",
       "     'gapstat123group': {'$id': '#/properties/State Metrics/items/properties/gapstat123group',\n",
       "      'type': 'string',\n",
       "      'title': 'The Gapstat123group Schema',\n",
       "      'description': 'A basic indication of the relative amount of habitat in GAP status 1, 2 and 3 lands for the species within the state.',\n",
       "      'examples': ['1-10']},\n",
       "     'id': {'$id': '#/properties/State Metrics/items/properties/id',\n",
       "      'type': 'integer',\n",
       "      'title': 'The Id Schema',\n",
       "      'description': 'An internal identifier for the record.',\n",
       "      'examples': [15722]}}}}}}"
      ]
     },
     "metadata": {},
     "output_type": "display_data"
    }
   ],
   "source": [
    "gap_metrics_schema = helperfunctions.load_schema('gap_metrics')\n",
    "display(gap_metrics_schema)\n",
    "\n",
    "jsonschema.validate(gap_metrics, gap_metrics_schema)"
   ]
  },
  {
   "cell_type": "code",
   "execution_count": null,
   "metadata": {},
   "outputs": [],
   "source": []
  }
 ],
 "metadata": {
  "kernelspec": {
   "display_name": "Python 3",
   "language": "python",
   "name": "python3"
  },
  "language_info": {
   "codemirror_mode": {
    "name": "ipython",
    "version": 3
   },
   "file_extension": ".py",
   "mimetype": "text/x-python",
   "name": "python",
   "nbconvert_exporter": "python",
   "pygments_lexer": "ipython3",
   "version": "3.7.3"
  }
 },
 "nbformat": 4,
 "nbformat_minor": 2
}
