{
 "cells": [
  {
   "cell_type": "markdown",
   "metadata": {},
   "source": [
    "The FWS Ecological Conservation Online System contains information about T&E species along with other information. USGS EMA staff (or others?) went through the work plan species list, determined the appropriate links to ECOS species web pages, and recorded those in one of the tables provided in the source inventory. In reviewing the various systems and access points, we found that there is information on ECOS species web pages that is not accessible through the ECOS TESS web services. We also found that the identifiers used on the ECOS species web pages do not seem to be found anywhere in the other accessible TESS interfaces. From this, we determined that we should run a rudimentary web scraping tool to gather a few usable pieces of information from the linked ECOS pages as a first step, cache this information in a file, and use it in later work.\n",
    "\n",
    "One of the main things extracted here is FWS' own determination of the appropriate ITIS species to link to. We use this in favor of running a species search whenever it's available as one avenue of establishing a linkage and retrieving information for later use.\n",
    "\n",
    "In writing the ECOS web scraper, we found that the ECOS pages are really quite hard to deal with. They are assembled dynamically from what appear to be various sources in a somewhat inconsistent way in terms of where and how the information is output to HTML/Javascript on the pages. This first scraper is kind of crude, and we'll revisit as needed down the road."
   ]
  },
  {
   "cell_type": "markdown",
   "metadata": {},
   "source": [
    "# Data prep\n",
    "The ECOS links were contained in the \"FWS 7 Year Workplan Species\" worksheet from the original \"Prelisting Science USGS Master_19Mar2018\" spreadsheet used as source material for this exercise. The links were embedded as hyperlinks on the species \"Scientific Name\" field using Excel proprietary methods. As such, we had to use a simple VBA script to extract out the links to their own field. We did this by copying the scientific name fields over to another Excel file, running the VBA macro there, and then including that as an intermediary file for processing.\n",
    "\n",
    "The ECOS Links and information we scrape from those use the Scientific Name string to link back to the main source file. The other thing that we did in this added file was to create a \"Lookup Name\" field where we corrected a few issues with name strings that make subsequent lookup steps more difficult. It's a common practice to encode some additional meaning or information about a species name in a name string, usually in fairly inconsistent ways. There are ways to tease this out programmatically, but with a list this short and a need to provide this additional file generated in a desktop application anyway, it made sense to simply take care of the few cases by hand."
   ]
  },
  {
   "cell_type": "code",
   "execution_count": 1,
   "metadata": {},
   "outputs": [],
   "source": [
    "import pandas as pd\n",
    "import bispy\n",
    "from IPython.display import display\n",
    "import json\n",
    "from joblib import Parallel, delayed\n",
    "import jsonschema\n",
    "\n",
    "ecos = bispy.ecos.Ecos()\n",
    "bis_utils = bispy.bis.Utils()\n",
    "\n",
    "import helperfunctions"
   ]
  },
  {
   "cell_type": "code",
   "execution_count": 2,
   "metadata": {},
   "outputs": [],
   "source": [
    "# Retrieve the extraction of ECOS links with scientific names from an excel file\n",
    "spp_ecos_links = pd.read_excel(\n",
    "    \"../sources/AdditionalSourceData.xlsx\",\n",
    "    sheet_name=\"Extracted Species ECOS Links\"\n",
    ")\n",
    "# Put just the links into a list for processing\n",
    "ecos_link_list = spp_ecos_links[spp_ecos_links[\"ECOS Link\"].notnull()][\"ECOS Link\"].tolist()"
   ]
  },
  {
   "cell_type": "code",
   "execution_count": 5,
   "metadata": {},
   "outputs": [
    {
     "name": "stdout",
     "output_type": "stream",
     "text": [
      "CPU times: user 1.02 s, sys: 108 ms, total: 1.13 s\n",
      "Wall time: 18.1 s\n"
     ]
    }
   ],
   "source": [
    "%%time\n",
    "# Use joblib to run the scraper function in parallel\n",
    "ecos_cache = Parallel(n_jobs=8)(delayed(ecos.scrape_ecos)(url) for url in ecos_link_list)"
   ]
  },
  {
   "cell_type": "code",
   "execution_count": 6,
   "metadata": {},
   "outputs": [
    {
     "data": {
      "text/plain": [
       "{'Doc Cache File': 'cache/ecos.json',\n",
       " 'Number of Documents in Cache': 341,\n",
       " 'Document Number 46': {'processing_metadata': {'status': 'success',\n",
       "   'date_processed': '2019-07-25T20:59:19.252721',\n",
       "   'api': 'https://ecos.fws.gov/ecp/species/9798'},\n",
       "  'ecos_species_summary': [{'Scientific Name': 'Cambarus jezerinaci',\n",
       "    'Common Name': 'Spiny Scale crayfish',\n",
       "    'Current Listing Status Summary': [{'Status': 'Under Review',\n",
       "      'Date Listed': '',\n",
       "      'Lead Region': 'Northeast Region (Region 5)',\n",
       "      'document_link': 'http://www.fws.gov/northeast/',\n",
       "      'Where Listed': 'Wherever found'}],\n",
       "    'itis_tsn': '650405'}]}}"
      ]
     },
     "metadata": {},
     "output_type": "display_data"
    }
   ],
   "source": [
    "# Cache the array of retrieved documents and return/display a random sample for verification\n",
    "display(bis_utils.doc_cache(\"../cache/ecos.json\", ecos_cache))"
   ]
  },
  {
   "cell_type": "markdown",
   "metadata": {},
   "source": [
    "# Schema Validation\n",
    "In this instance of developing a JSON Schema document, I noted a few interesting dynamics:\n",
    "* I've been experimenting with a number of methods for generating an initial JSON Schema stub from examining the actual data generated. I wrote a function for this based on the genson package, that works reasonably well, though it proved challenging to modify to fit the current draft specification (genson stopped at draft 4). In this case, I experimented again with the jsonschema.net tool, which is pretty good. However, I found that it did not pick up all of the document listing properties when I threw the full ECOS dataset at the inference tool, and I had to build a representative sample of records by selecting for those that had the particular document sets. I could then stub out a schema to take elsewhere and complete.\n",
    "* I continued to work through some common properties that should be applicable across many different datasets. That process is iteratively continuing to grow the \"definitions\" section of the JSON Schema; essentially a way to reference an \"external\" set of property definitions within any given schema. According to the documentation for JSON Schema draft 7, I should be able to pull these from a common file, referencing something like `{\"$ref\": \"common_properties.json#/document_title\"}`. However, I found that the jsonschema package doesn't currently follow that type of notation, only using the internal reference schema like #/definitions/document_title. Eventually, we will want to have this be HTTP resolvable references to a master property registry. Of course, we also want to build an intelligent system that is constanly introspecting new registered data and dynamically suggesting where common properties may be emerging.\n",
    "* In working through some issues in the data, I noticed that the jsonschema validation report that kicks out reports on the record in the list of JSON documents/records where an issue is found. This allows for an efficient iterative process of getting the schema laid out correctly to validate a given dataset."
   ]
  },
  {
   "cell_type": "code",
   "execution_count": 9,
   "metadata": {},
   "outputs": [
    {
     "data": {
      "text/plain": [
       "{'definitions': {'items': {'$id': '#/items',\n",
       "   'type': ['object', 'array'],\n",
       "   'title': 'Generic container for items in a dataset',\n",
       "   'description': 'A JSON array or object property containing one or more items in a dataset or data structure within a dataset.'}},\n",
       " '$schema': 'http://json-schema.org/draft-07/schema#',\n",
       " '$id': 'http://data.usgs.gov/property_registry/',\n",
       " 'type': ['array', 'object'],\n",
       " 'title': 'ECOS Species Web Scrape Collection',\n",
       " 'description': 'A dataset containing species information scraped from the USFWS Ecological Conservation Online System web pages. Certain properties on species from the USFWS databases could not be accessed through any other open API. Data were assembled using a function build into the experimental bispy software package (https://github.com/usgs-bcb/bispy).',\n",
       " 'items': {'$ref': '#/definitions/items',\n",
       "  'properties': {'processing_metadata': {'$ref': 'common_properties.json#/definitions/processing_metadata'},\n",
       "   'ecos_species_summary': {'$id': '#ecos_species_summary',\n",
       "    'type': ['object', 'null'],\n",
       "    'title': 'ECOS Species Summary Information',\n",
       "    'description': 'An object containing all of the accessible and useful information bits, including lists of available documents, from an ECOS Species web page.',\n",
       "    'required': ['Scientific Name', 'Current Listing Status Summary'],\n",
       "    'properties': {'Scientific Name': {'$ref': 'common_properties.json#/definitions/Scientific Name'},\n",
       "     'Common Name': {'$ref': 'common_properties.json#/definitions/Common Name'},\n",
       "     'itis_tsn': {'$ref': 'common_properties.json#/definitions/itis_tsn'},\n",
       "     'Current Listing Status Summary': {'$id': '#Current Listing Status Summary',\n",
       "      'type': ['array', 'null'],\n",
       "      'title': 'Current Listing Status',\n",
       "      'description': 'Species may have one or more listing status designations. The values for these items were scraped and slightly transformed from a table on the web pages.',\n",
       "      'items': {'$id': '#items',\n",
       "       'type': ['object', 'null'],\n",
       "       'title': 'Generic container for items in a dataset',\n",
       "       'description': 'A JSON array or object property containing one or more items in a dataset',\n",
       "       'required': ['Status', 'Date Listed', 'Lead Region', 'Where Listed'],\n",
       "       'properties': {'Status': {'$id': '#Status',\n",
       "         'type': ['string', 'null'],\n",
       "         'examples': ['Under Review'],\n",
       "         'title': 'Listing Status',\n",
       "         'description': 'The listing status designation. Species may have more than one listing status for different populations.'},\n",
       "        'Date Listed': {'$id': '#Date Listed',\n",
       "         'type': ['string', 'null'],\n",
       "         'title': 'Date Listed',\n",
       "         'description': 'Date the listing status was applied'},\n",
       "        'Lead Region': {'$id': '#Lead Region',\n",
       "         'type': ['string', 'null'],\n",
       "         'examples': ['Northeast Region (Region 5)'],\n",
       "         'title': 'Lead FWS Region',\n",
       "         'description': 'The lead USFWS Region responsible for the species listing process.'},\n",
       "        'Lead Region_link': {'$id': '#Lead Region_link',\n",
       "         'type': ['string', 'null'],\n",
       "         'title': 'Lead Region Link',\n",
       "         'description': 'Web link (URL) to the lead region extracted from the text.',\n",
       "         'examples': ['http://www.fws.gov/northeast/']},\n",
       "        'Where Listed': {'$id': '#Where Listed',\n",
       "         'type': ['string', 'null'],\n",
       "         'title': 'Where Listed',\n",
       "         'description': 'An indication of where, geographically, the species is listed.',\n",
       "         'examples': ['Wherever found']}}}},\n",
       "     'Federal Register Documents': {'$id': '#Federal Register Documents',\n",
       "      'type': ['array', 'null'],\n",
       "      'title': 'Federal Register Documents',\n",
       "      'description': 'A listing of the Federal Register documents associated with the species listing process, extracted from a table generated on the web pages.',\n",
       "      'items': {'$id': '#items',\n",
       "       'type': ['object', 'null'],\n",
       "       'title': 'Generic container for items in a dataset',\n",
       "       'description': 'A JSON array or object property containing one or more items in a dataset',\n",
       "       'required': ['publication_date', 'document_title', 'Citation Page'],\n",
       "       'properties': {'publication_date': {'$ref': 'common_properties.json#/definitions/publication_date'},\n",
       "        'document_title': {'$ref': 'common_properties.json#/definitions/document_title'},\n",
       "        'document_link': {'$ref': 'common_properties.json#/definitions/document_link'},\n",
       "        'Citation Page': {'$id': '#Citation Page',\n",
       "         'type': ['string', 'null'],\n",
       "         'title': 'Citation Page',\n",
       "         'description': 'The citation location in the Federal Register notice.',\n",
       "         'examples': ['83 FR 50582 50610']}}}},\n",
       "     'Special Rule Publications': {'$id': '#Special Rule Publications',\n",
       "      'type': ['array', 'null'],\n",
       "      'title': 'Special Rule Publications',\n",
       "      'description': 'Documents describing special rules published in the Federal Register.',\n",
       "      'items': {'$id': '#items',\n",
       "       'type': ['object', 'null'],\n",
       "       'title': 'Generic container for items in a dataset',\n",
       "       'description': 'A JSON array or object property containing one or more items in a dataset',\n",
       "       'required': ['publication_date', 'document_title', 'Citation Page'],\n",
       "       'properties': {'publication_date': {'$ref': 'common_properties.json#/definitions/publication_date'},\n",
       "        'document_title': {'$ref': 'common_properties.json#/definitions/document_title'},\n",
       "        'document_link': {'$ref': 'common_properties.json#/definitions/document_link'},\n",
       "        'Citation Page': {'$id': '#Citation Page',\n",
       "         'type': ['string', 'null'],\n",
       "         'title': 'Citation Page',\n",
       "         'description': 'The citation location in the Federal Register notice.',\n",
       "         'examples': ['83 FR 50582 50610']}}}},\n",
       "     'Current Recovery Plan(s)': {'$id': '#Current Recovery Plan(s)',\n",
       "      'type': ['array', 'null'],\n",
       "      'title': 'Current Recovery Plans',\n",
       "      'description': 'A listing of documents containing recovery plans for the species',\n",
       "      'items': {'$id': '#items',\n",
       "       'type': ['object', 'null'],\n",
       "       'title': 'Generic container for items in a dataset',\n",
       "       'description': 'A JSON array or object property containing one or more items in a dataset',\n",
       "       'required': ['publication_date',\n",
       "        'document_link',\n",
       "        'Plan Action Status',\n",
       "        'Plan Status'],\n",
       "       'properties': {'publication_date': {'$ref': 'common_properties.json#/definitions/publication_date'},\n",
       "        'document_title': {'$ref': 'common_properties.json#/definitions/document_title'},\n",
       "        'document_link': {'$ref': 'common_properties.json#/definitions/document_link'},\n",
       "        'Plan Action Status': {'$id': '#Plan Action Status',\n",
       "         'type': ['string', 'null'],\n",
       "         'title': 'The Plan action status Schema',\n",
       "         'description': 'An explanation about the purpose of this instance.',\n",
       "         'examples': ['View Implementation Progress']},\n",
       "        'Plan Action Status_link': {'$id': '#Plan Action Status_link',\n",
       "         'type': ['string', 'null'],\n",
       "         'title': 'The Plan action status_link Schema',\n",
       "         'description': 'An explanation about the purpose of this instance.',\n",
       "         'examples': ['https://ecos.fws.gov/ecp0/reports/implementation-activity-status-ore-report?documentId=1009911&entityId=9220']},\n",
       "        'Plan Status': {'$id': '#Plan Status',\n",
       "         'type': ['string', 'null'],\n",
       "         'title': 'The Plan status Schema',\n",
       "         'description': 'An explanation about the purpose of this instance.',\n",
       "         'examples': ['Final']}}}},\n",
       "     'Other Recovery Documents': {'$id': '#Other Recovery Documents',\n",
       "      'type': ['array', 'null'],\n",
       "      'title': 'Other Recovery Documents',\n",
       "      'description': 'A listing of other documents associated with recovery of the species.',\n",
       "      'items': {'$id': '#items',\n",
       "       'type': ['object', 'null'],\n",
       "       'title': 'Generic container for items in a dataset',\n",
       "       'description': 'A JSON array or object property containing one or more items in a dataset',\n",
       "       'required': ['publication_date',\n",
       "        'Citation Page',\n",
       "        'document_title',\n",
       "        'document_link',\n",
       "        'Document Type'],\n",
       "       'properties': {'publication_date': {'$ref': 'common_properties.json#/definitions/publication_date'},\n",
       "        'document_title': {'$ref': 'common_properties.json#/definitions/document_title'},\n",
       "        'document_link': {'$ref': 'common_properties.json#/definitions/document_link'},\n",
       "        'Citation Page': {'$id': '#Citation Page',\n",
       "         'type': ['string', 'null'],\n",
       "         'title': 'Citation Page',\n",
       "         'description': 'The citation location in the Federal Register notice.',\n",
       "         'examples': ['83 FR 50582 50610']},\n",
       "        'Document Type': {'$id': '#Document Type',\n",
       "         'type': ['string', 'null'],\n",
       "         'title': 'Document Type',\n",
       "         'description': 'A text description of the document type.',\n",
       "         'examples': ['Recovery Plan Draft, Document Availability']}}}},\n",
       "     'Habitat Conservation Plans (HCP)': {'$id': '#Habitat Conservation Plans (HCP)',\n",
       "      'type': ['array', 'null'],\n",
       "      'title': 'Habitat Conservation Plans',\n",
       "      'description': 'A listing of the Habitat Conservation Plans and available links for the species',\n",
       "      'items': {'$id': '#items',\n",
       "       'type': ['object', 'null'],\n",
       "       'title': 'Generic container for items in a dataset',\n",
       "       'description': 'A JSON array or object property containing one or more items in a dataset',\n",
       "       'required': ['HCP Plan Summaries'],\n",
       "       'properties': {'HCP Plan Summaries': {'$id': '#HCP Plan Summaries',\n",
       "         'type': ['string', 'null'],\n",
       "         'title': 'HCP Summary Statement',\n",
       "         'description': 'A summary statement for the Habitat Conservation Plan',\n",
       "         'examples': ['Boise Cascade Low-effect HCP for the Northern Spotted Owl (transferred to Boise Central Washington Land & Timber , LLC.  Permit was subsequently transferred to Western Pacific Timberlands, LLC.)']},\n",
       "        'HCP Plan Summaries_link': {'$id': '#HCP Plan Summaries_link',\n",
       "         'type': ['string', 'null'],\n",
       "         'title': 'HCP Link',\n",
       "         'description': 'A web link (URL) to the Habitat Conservation Plan.',\n",
       "         'examples': ['https://ecos.fws.gov/ecp0/conservationPlan/plan?plan_id=1020']}}}},\n",
       "     'Five Year Review': {'$id': '#Five Year Review',\n",
       "      'type': ['array', 'null'],\n",
       "      'title': 'Five Year Review',\n",
       "      'description': 'A listing of Five-year reviews available for the species.',\n",
       "      'items': {'$id': '#items',\n",
       "       'type': ['object', 'null'],\n",
       "       'title': 'The Items Schema',\n",
       "       'description': 'An explanation about the purpose of this instance.',\n",
       "       'required': ['publication_date', 'document_title', 'document_link'],\n",
       "       'properties': {'publication_date': {'$ref': 'common_properties.json#/definitions/publication_date'},\n",
       "        'document_title': {'$ref': 'common_properties.json#/definitions/document_title'},\n",
       "        'document_link': {'$ref': 'common_properties.json#/definitions/document_link'}}}}}}}}}"
      ]
     },
     "metadata": {},
     "output_type": "display_data"
    }
   ],
   "source": [
    "ecos_schema = helperfunctions.load_schema('ecos')\n",
    "display(ecos_schema)\n",
    "\n",
    "jsonschema.validate(ecos_cache, ecos_schema)"
   ]
  },
  {
   "cell_type": "code",
   "execution_count": null,
   "metadata": {},
   "outputs": [],
   "source": []
  }
 ],
 "metadata": {
  "kernelspec": {
   "display_name": "Python 3",
   "language": "python",
   "name": "python3"
  },
  "language_info": {
   "codemirror_mode": {
    "name": "ipython",
    "version": 3
   },
   "file_extension": ".py",
   "mimetype": "text/x-python",
   "name": "python",
   "nbconvert_exporter": "python",
   "pygments_lexer": "ipython3",
   "version": "3.7.3"
  }
 },
 "nbformat": 4,
 "nbformat_minor": 2
}
