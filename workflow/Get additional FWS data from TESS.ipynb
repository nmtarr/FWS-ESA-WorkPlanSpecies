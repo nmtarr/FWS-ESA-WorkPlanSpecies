{
 "cells": [
  {
   "cell_type": "markdown",
   "metadata": {},
   "source": [
    "The FWS Threatened and Endangered Species (TESS) system is part of their underlying data source. TESS has a set of web services that are a little rudimentary but functional. In this notebook, we retrieve information from TESS, first for all of the species we \"ECOS-scraped\" that have ITIS TSN numbers declared (cached to the cache/workplan_species.json file), and then we look for any other species in the list where we did not get a TSN.\n",
    "\n",
    "The main bispy function here is the search function in the Tess class of the tess module. It takes either an ITIS TSN or scientific name and runs a search. The TESS service returns XML, but the function transforms and tweaks slightly to return a dictionary (JSON) structure."
   ]
  },
  {
   "cell_type": "code",
   "execution_count": 14,
   "metadata": {},
   "outputs": [],
   "source": [
    "import json\n",
    "import bispy\n",
    "from IPython.display import display\n",
    "from joblib import Parallel, delayed\n",
    "import jsonschema\n",
    "\n",
    "tess = bispy.ecos.Tess()\n",
    "bis_utils = bispy.bis.Utils()\n",
    "\n",
    "import helperfunctions"
   ]
  },
  {
   "cell_type": "code",
   "execution_count": 2,
   "metadata": {},
   "outputs": [],
   "source": [
    "# Open up the cached workplan species\n",
    "with open(\"../cache/workplan_species.json\", \"r\") as f:\n",
    "    workplan_species = json.loads(f.read())\n",
    "    f.close()"
   ]
  },
  {
   "cell_type": "code",
   "execution_count": 3,
   "metadata": {},
   "outputs": [],
   "source": [
    "# Prepare two lists - one of the TSNs we already know about from ECOS scraping and the other of the remaining scientific names\n",
    "tsn_list = [r[\"ITIS TSN\"] for r in workplan_species if r[\"ITIS TSN\"] is not None]\n",
    "names_without_tsns = [r[\"Lookup Name\"] for r in workplan_species if r[\"ITIS TSN\"] is None]"
   ]
  },
  {
   "cell_type": "code",
   "execution_count": 4,
   "metadata": {},
   "outputs": [
    {
     "name": "stdout",
     "output_type": "stream",
     "text": [
      "CPU times: user 658 ms, sys: 91.6 ms, total: 750 ms\n",
      "Wall time: 10.4 s\n"
     ]
    }
   ],
   "source": [
    "%%time\n",
    "# Use joblib to run multiple requests for TESS documents in parallel via known ITIS TSNs\n",
    "tess_cache_from_tsn = Parallel(n_jobs=8)(delayed(tess.search)(tsn) for tsn in tsn_list)"
   ]
  },
  {
   "cell_type": "code",
   "execution_count": 5,
   "metadata": {},
   "outputs": [
    {
     "name": "stdout",
     "output_type": "stream",
     "text": [
      "CPU times: user 127 ms, sys: 7.45 ms, total: 134 ms\n",
      "Wall time: 2.08 s\n"
     ]
    }
   ],
   "source": [
    "%%time\n",
    "# Use joblib to run multiple requests for TESS documents in parallel via scientific names\n",
    "tess_cache_from_names = Parallel(n_jobs=8)(delayed(tess.search)(name) for name in names_without_tsns)"
   ]
  },
  {
   "cell_type": "code",
   "execution_count": 6,
   "metadata": {},
   "outputs": [
    {
     "data": {
      "text/plain": [
       "{'Doc Cache File': 'cache/workplan_species.json',\n",
       " 'Number of Documents in Cache': 373,\n",
       " 'Document Number 278': {'Guild': 'Insects',\n",
       "  'Species Name (Common)': 'narrow-foot hygrotus diving beetle',\n",
       "  'Scientific Name': 'Hygrotus diversipes',\n",
       "  'Lead FWS Regional Office': 'Region 6 - Mountain-Prairie',\n",
       "  'Proposed FWS Decision Timeframe (Fiscal Year)': 2023,\n",
       "  'Range': 'WY',\n",
       "  'Bin': None,\n",
       "  'ECOS Link': 'https://ecos.fws.gov/ecp/species/5640',\n",
       "  'ITIS TSN': '112255',\n",
       "  'Lookup Name': 'Hygrotus diversipes'}}"
      ]
     },
     "metadata": {},
     "output_type": "display_data"
    }
   ],
   "source": [
    "# If any new TSNs were found via name search, update those back to the workplan species JSON\n",
    "updated_workplan_species = list()\n",
    "for record in [t for t in tess_cache_from_names if 'tess_species' in t.keys() and int(t['tess_species']['SPECIES_DETAIL']['TSN']) > 0]:\n",
    "    workplan_record = next((d for d in workplan_species if d[\"Lookup Name\"] == record['tess_species']['SPECIES_DETAIL']['SCINAME']), None)\n",
    "    workplan_record[\"ITIS TSN\"] = record[\"tess_species\"][\"SPECIES_DETAIL\"][\"TSN\"]\n",
    "    updated_workplan_species.append(workplan_record)\n",
    "    updated_species_names = [s[\"Scientific Name\"] for s in updated_workplan_species]\n",
    "\n",
    "if len(updated_workplan_species) > 0:\n",
    "    new_workplan_species = list(filter(lambda i: i['Scientific Name'] not in updated_species_names, workplan_species))\n",
    "    new_workplan_species.extend(updated_workplan_species)\n",
    "    display(bis_utils.doc_cache(\"../cache/workplan_species.json\", new_workplan_species))\n",
    "    "
   ]
  },
  {
   "cell_type": "code",
   "execution_count": 10,
   "metadata": {
    "scrolled": false
   },
   "outputs": [
    {
     "data": {
      "text/plain": [
       "{'Doc Cache File': 'cache/tess.json',\n",
       " 'Number of Documents in Cache': 363,\n",
       " 'Document Number 218': {'processing_metadata': {'status': 'success',\n",
       "   'date_processed': '2019-07-24T12:47:41.755413',\n",
       "   'api': 'https://ecos.fws.gov/ecp0/TessQuery?request=query&xquery=/SPECIES_DETAIL[TSN=506951]'},\n",
       "  'tess_species': {'SPECIES_DETAIL': {'ENTITY_ID': '9611',\n",
       "    'SPCODE': 'Q3LY',\n",
       "    'VIPCODE': 'P01',\n",
       "    'SCINAME': 'Draba weberi',\n",
       "    'COMNAME': \"Weber's Whitlow grass\",\n",
       "    'INVNAME': \"grass Weber's Whitlow\",\n",
       "    'POP_ABBREV': 'Wherever found',\n",
       "    'POP_DESC': 'Wherever found',\n",
       "    'FAMILY': 'Brassicaceae',\n",
       "    'STATUS': 'UR',\n",
       "    'STATUS_TEXT': 'Under Review in the Candidate or Petition Process',\n",
       "    'LEAD_AGENCY': '1',\n",
       "    'LEAD_REGION': '6',\n",
       "    'COUNTRY': '1',\n",
       "    'TSN': '506951',\n",
       "    'DPS': '0'}}}}"
      ]
     },
     "metadata": {},
     "output_type": "display_data"
    }
   ],
   "source": [
    "# Cache the array of retrieved documents and return/display a random sample for verification\n",
    "display(bis_utils.doc_cache(\"../cache/tess.json\", tess_cache_from_tsn + tess_cache_from_names))"
   ]
  },
  {
   "cell_type": "markdown",
   "metadata": {},
   "source": [
    "# Schema Validation\n",
    "The USFWS TESS system is documented in a set of [myUSGS wiki pages](https://my.usgs.gov/confluence/pages/viewpage.action?pageId=518426757). The schema documents specific aspects of the TESS information model of note with links to code values. One slight challenge in using these data is that there is not necessarily a one-to-one match between names or ITIS TSNs and TESS records. There are instances where the \"tess_species\" key in the data structure contains an array of results because of more than one record being found in the TESS system, and the validation reflects this dynamic."
   ]
  },
  {
   "cell_type": "code",
   "execution_count": 25,
   "metadata": {},
   "outputs": [
    {
     "data": {
      "text/plain": [
       "{'definitions': {'items': {'$id': '#/items',\n",
       "   'type': ['object', 'array'],\n",
       "   'title': 'Generic container for items in a dataset',\n",
       "   'description': 'A JSON array or object property containing one or more items in a dataset'},\n",
       "  'doi': {'$id': '#doi',\n",
       "   'type': ['string', 'null'],\n",
       "   'title': 'Digital Object Identifier',\n",
       "   'description': 'A digital object identifier for or associated with a record. May be in the form of an HTTP url or a standalone identifier.',\n",
       "   'examples': ['http://dx.doi.org/10.2305/IUCN.UK.2004.RLTS.T59435A11941314.en',\n",
       "    '10.2305/IUCN.UK.2004.RLTS.T59435A11941314.en']},\n",
       "  'resolvable_identifier': {'$id': '#resolvable_identifier',\n",
       "   'type': 'string',\n",
       "   'title': 'Resolvable Identifier',\n",
       "   'description': 'Some form of resolvable identifier for a record that returns a response when accessed over an included protocol such as HTTP. May or may not provide for content negotiation.',\n",
       "   'examples': ['https://www.iucnredlist.org/species/59435/11941314']},\n",
       "  'citation_string': {'$id': '#citation_string',\n",
       "   'type': 'string',\n",
       "   'title': 'Citation String',\n",
       "   'description': 'A citation string directly associated with a resource record. Can be any parseable citation string.'},\n",
       "  'record_date': {'$id': '#record_date',\n",
       "   'type': 'string',\n",
       "   'title': 'The date that a record was considered valid from its source',\n",
       "   'description': 'A date supplied by a record source indicating when it was considered valid or current.',\n",
       "   'examples': ['2004-04-30']},\n",
       "  'document_title': {'$id': '#document_title',\n",
       "   'type': 'string',\n",
       "   'title': 'The title for a document of any type',\n",
       "   'description': 'A generic property used to hold the title for a document.',\n",
       "   'examples': ['War and Peace']},\n",
       "  'document_link': {'$id': '#document_title',\n",
       "   'type': 'string',\n",
       "   'title': 'A web link (URL) to access a document online',\n",
       "   'description': 'A generic property used to hold a resolvable link to a document of any type.',\n",
       "   'examples': ['https://www.gutenberg.org/files/2600/2600-h/2600-h.htm']},\n",
       "  'publication_date': {'$id': '#publication_date',\n",
       "   'type': 'string',\n",
       "   'title': 'Date that a document or article was published',\n",
       "   'description': 'A generic property used to hold a date at multiple levels of precision that a document or article was published.',\n",
       "   'examples': ['1869']},\n",
       "  'processing_metadata': {'$id': '#processing_metadata',\n",
       "   'type': 'object',\n",
       "   'title': 'Object containing information about the processing of a record in a dataset',\n",
       "   'description': 'A container object that contains properties describing the specific processing details for a given record within a dataset. Contains standardized properties describing the processing.',\n",
       "   'required': ['status', 'date_processed', 'api'],\n",
       "   'properties': {'status': {'$id': '#status',\n",
       "     'type': 'string',\n",
       "     'title': 'The overall status of the record processing step',\n",
       "     'description': 'Describes one of three standardized states for the processing of a given record.',\n",
       "     'default': 'failure',\n",
       "     'examples': ['success', 'failure', 'error']},\n",
       "    'date_processed': {'$id': '#date_processed',\n",
       "     'type': 'string',\n",
       "     'title': 'The data and time that the process for a given record was conducted',\n",
       "     'description': 'Date time stamp in ISO8601 format denoting the point when the processing of the record occurred. Can be used to evaluate record currency with original source and trigger updates.',\n",
       "     'examples': ['2019-07-23T16:29:02.377774']},\n",
       "    'api': {'$id': '#api',\n",
       "     'type': 'string',\n",
       "     'title': 'A resolvable API string used to obtain or generate a record in a dataset',\n",
       "     'description': 'Some form of resolvable Application Programming Interface such as a REST URL that was used to generate the record being documented. Often passed through a function of some kind to process the results.',\n",
       "     'format': 'uri'},\n",
       "    'status_message': {'$id': '#status_message',\n",
       "     'type': 'string',\n",
       "     'title': 'Message with further details about the status of a record',\n",
       "     'description': 'Per dataset, this string contains context-specific details about the status or state of a record that was processed.'},\n",
       "    'details': {'$id': '#details',\n",
       "     'type': 'array',\n",
       "     'title': 'Data Processing Details',\n",
       "     'description': 'A list of statements describing additional specific details about the process of generating a record.'}}}},\n",
       " '$schema': 'http://json-schema.org/draft-07/schema#',\n",
       " '$id': 'http://data.usgs.gov/property_registry/',\n",
       " 'type': 'array',\n",
       " 'title': 'TESS Schema',\n",
       " 'description': 'A dataset containing summarized results from the USFWS Threatened and Endangered Species System pulled from its API.',\n",
       " 'items': {'$ref': '#/definitions/items'},\n",
       " 'properties': {'processing_metadata': {'$ref': '#/definitions/processing_metadata'},\n",
       "  'tess_species': {'$id': '#/items/properties/tess_species',\n",
       "   'type': 'object',\n",
       "   'title': 'The Tess_species Schema',\n",
       "   'description': 'An explanation about the purpose of this instance.',\n",
       "   'required': ['SPECIES_DETAIL'],\n",
       "   'properties': {'SPECIES_DETAIL': {'$id': '#/items/properties/tess_species/properties/SPECIES_DETAIL',\n",
       "     'type': ['object', 'array'],\n",
       "     'title': 'TESS Species',\n",
       "     'description': 'An object or array containing properties from the Threatened and Endangered Species System retrieved via XQuery from an XML web service. An array of results will be used when more than one TESS record was found for the given API query.',\n",
       "     'required': ['ENTITY_ID',\n",
       "      'SPCODE',\n",
       "      'VIPCODE',\n",
       "      'SCINAME',\n",
       "      'COMNAME',\n",
       "      'INVNAME',\n",
       "      'FAMILY',\n",
       "      'STATUS',\n",
       "      'STATUS_TEXT',\n",
       "      'TSN',\n",
       "      'DPS'],\n",
       "     'properties': {'ENTITY_ID': {'$id': '#/items/properties/tess_species/properties/SPECIES_DETAIL/properties/ENTITY_ID',\n",
       "       'type': 'string',\n",
       "       'title': 'Entity ID',\n",
       "       'description': 'Internal identifier used only within the TESS system.',\n",
       "       'examples': ['9143']},\n",
       "      'SPCODE': {'$id': '#/items/properties/tess_species/properties/SPECIES_DETAIL/properties/SPCODE',\n",
       "       'type': 'string',\n",
       "       'title': 'Species Code',\n",
       "       'description': 'Internal species code used in the TESS system documented at http://bit.ly/30N2SEa.',\n",
       "       'examples': ['D03E']},\n",
       "      'VIPCODE': {'$id': '#/items/properties/tess_species/properties/SPECIES_DETAIL/properties/VIPCODE',\n",
       "       'type': 'string',\n",
       "       'title': 'VIP Code',\n",
       "       'description': 'Internal species code used in the TESS system documented at http://bit.ly/30N2SEa.',\n",
       "       'examples': ['V01']},\n",
       "      'SCINAME': {'$id': '#/items/properties/tess_species/properties/SPECIES_DETAIL/properties/SCINAME',\n",
       "       'type': 'string',\n",
       "       'title': 'Scientific Name',\n",
       "       'description': 'Scientific (latin) name for the biological species.',\n",
       "       'examples': ['Rhyacotriton cascadae']},\n",
       "      'COMNAME': {'$id': '#/items/properties/tess_species/properties/SPECIES_DETAIL/properties/COMNAME',\n",
       "       'type': 'string',\n",
       "       'title': 'Common Name',\n",
       "       'description': 'Common (vernacular) name for the biological species.',\n",
       "       'examples': ['Cascade torrent salamander']},\n",
       "      'INVNAME': {'$id': '#/items/properties/tess_species/properties/SPECIES_DETAIL/properties/INVNAME',\n",
       "       'type': 'string',\n",
       "       'title': 'Inverted Common Name',\n",
       "       'description': 'Inverted form of the common name used to group similar species.',\n",
       "       'examples': ['salamander, Cascade torrent']},\n",
       "      'POP_ABBREV': {'$id': '#/items/properties/tess_species/properties/SPECIES_DETAIL/properties/POP_ABBREV',\n",
       "       'type': ['string', 'null'],\n",
       "       'title': 'Population Abbreviation',\n",
       "       'description': 'Abbreviated form of the population designated for listing.',\n",
       "       'examples': ['Wherever found']},\n",
       "      'POP_DESC': {'$id': '#/items/properties/tess_species/properties/SPECIES_DETAIL/properties/POP_DESC',\n",
       "       'type': ['string', 'null'],\n",
       "       'title': 'Population Description',\n",
       "       'description': 'Longer description of the population designated for listing.',\n",
       "       'examples': ['Wherever found']},\n",
       "      'FAMILY': {'$id': '#/items/properties/tess_species/properties/SPECIES_DETAIL/properties/FAMILY',\n",
       "       'type': 'string',\n",
       "       'title': 'Taxonomic Family',\n",
       "       'description': 'Family name for the species from the taxonomic tree.',\n",
       "       'examples': ['rhyacotritonidae']},\n",
       "      'STATUS': {'$id': '#/items/properties/tess_species/properties/SPECIES_DETAIL/properties/STATUS',\n",
       "       'type': 'string',\n",
       "       'title': 'Listing Status Code',\n",
       "       'description': 'Listing status code documented here http://bit.ly/30Zk35H.',\n",
       "       'examples': ['UR']},\n",
       "      'STATUS_TEXT': {'$id': '#/items/properties/tess_species/properties/SPECIES_DETAIL/properties/STATUS_TEXT',\n",
       "       'type': 'string',\n",
       "       'title': 'Listing Status',\n",
       "       'description': 'Text description of the listing status documented here http://bit.ly/30Zk35H.',\n",
       "       'examples': ['Under Review in the Candidate or Petition Process']},\n",
       "      'LEAD_AGENCY': {'$id': '#/items/properties/tess_species/properties/SPECIES_DETAIL/properties/LEAD_AGENCY',\n",
       "       'type': 'string',\n",
       "       'title': 'Lead Agency',\n",
       "       'description': 'Lead U.S. Federal Agency under the Endangered Species Act.',\n",
       "       'examples': ['1']},\n",
       "      'LEAD_REGION': {'$id': '#/items/properties/tess_species/properties/SPECIES_DETAIL/properties/LEAD_REGION',\n",
       "       'type': 'string',\n",
       "       'title': 'Lead Region',\n",
       "       'description': 'Lead USFWS Region number.',\n",
       "       'examples': ['6']},\n",
       "      'COUNTRY': {'$id': '#/items/properties/tess_species/properties/SPECIES_DETAIL/properties/COUNTRY',\n",
       "       'type': 'string',\n",
       "       'title': 'Country',\n",
       "       'description': 'Internally used country code from the TESS system.',\n",
       "       'examples': ['1']},\n",
       "      'TSN': {'$id': '#/items/properties/tess_species/properties/SPECIES_DETAIL/properties/TSN',\n",
       "       'type': 'string',\n",
       "       'title': 'ITIS Taxonomic Serial Number',\n",
       "       'description': 'Taxonomic Serial Number for the species from the Integrated Taxonomic Information System.',\n",
       "       'examples': ['550250']},\n",
       "      'DPS': {'$id': '#/items/properties/tess_species/properties/SPECIES_DETAIL/properties/DPS',\n",
       "       'type': 'string',\n",
       "       'title': 'Distinct Population Segment',\n",
       "       'description': 'A binary value indicating whether or not the listing is for a distinct population segment.',\n",
       "       'examples': ['0']}}}}}}}"
      ]
     },
     "metadata": {},
     "output_type": "display_data"
    }
   ],
   "source": [
    "tess_schema = helperfunctions.load_schema('tess')\n",
    "display(tess_schema)\n",
    "\n",
    "jsonschema.validate(tess_cache_from_names + tess_cache_from_tsn, tess_schema)"
   ]
  },
  {
   "cell_type": "code",
   "execution_count": null,
   "metadata": {},
   "outputs": [],
   "source": []
  },
  {
   "cell_type": "code",
   "execution_count": null,
   "metadata": {},
   "outputs": [],
   "source": []
  }
 ],
 "metadata": {
  "kernelspec": {
   "display_name": "Python 3",
   "language": "python",
   "name": "python3"
  },
  "language_info": {
   "codemirror_mode": {
    "name": "ipython",
    "version": 3
   },
   "file_extension": ".py",
   "mimetype": "text/x-python",
   "name": "python",
   "nbconvert_exporter": "python",
   "pygments_lexer": "ipython3",
   "version": "3.7.3"
  }
 },
 "nbformat": 4,
 "nbformat_minor": 2
}
